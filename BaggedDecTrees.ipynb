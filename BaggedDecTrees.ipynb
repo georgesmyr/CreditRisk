{
 "cells": [
  {
   "cell_type": "code",
   "execution_count": 2,
   "id": "965b4cce",
   "metadata": {},
   "outputs": [],
   "source": [
    "from sklearn.tree import DecisionTreeRegressor\n",
    "from sklearn.ensemble import BaggingRegressor"
   ]
  },
  {
   "cell_type": "markdown",
   "id": "66a2f400",
   "metadata": {},
   "source": [
    "# Bagged Decision Trees"
   ]
  },
  {
   "cell_type": "markdown",
   "id": "11da227e",
   "metadata": {},
   "source": [
    "To apply bagging to decision trees, we create bootstrap samples from our training data by repeatedly sampling with replacement, then train one decision tree on each of these samples, and create an ensemble prediction by averaging over the predictions of the different trees.\n",
    "\n",
    "Bagged decision trees are usually grown large, that is, have many levels and leaf nodes and are not pruned so that each tree has low bias but high variance. The effect of averaging their predictions then aims to reduce their variance. Bagging has been shown to substantially improve predictive performance by constructing ensembles that combine hundreds or even thousands of trees trained on bootstrap samples.\n",
    "\n",
    "To illustrate the effect of bagging on the variance of a regression tree, we can use the `BaggingRegressor` meta-estimator provided by `sklearn`. It trains a user-defined base estimator based on parameters that specify the sampling strategy:"
   ]
  },
  {
   "cell_type": "markdown",
   "id": "dbd8313f",
   "metadata": {},
   "source": [
    "- `max_samples` and `max_features` control the size of the subsets drawn from the rows and the columns, respectively\n",
    "- `bootstrap` and `bootstrap_features` determine whether each of these samples is drawn with or without replacement"
   ]
  },
  {
   "cell_type": "code",
   "execution_count": 4,
   "id": "017720c3",
   "metadata": {},
   "outputs": [],
   "source": [
    "tree = DecisionTreeRegressor(max_depth=10)\n",
    "bagged_tree = BaggingRegressor(estimator=tree, n_estimators=10)\n",
    "learners = {'Decision Tree': tree, 'Bagging Regressor': bagged_tree}"
   ]
  },
  {
   "cell_type": "code",
   "execution_count": null,
   "id": "d948f8dc",
   "metadata": {},
   "outputs": [],
   "source": [
    "predictions"
   ]
  }
 ],
 "metadata": {
  "kernelspec": {
   "display_name": "Python 3 (ipykernel)",
   "language": "python",
   "name": "python3"
  },
  "language_info": {
   "codemirror_mode": {
    "name": "ipython",
    "version": 3
   },
   "file_extension": ".py",
   "mimetype": "text/x-python",
   "name": "python",
   "nbconvert_exporter": "python",
   "pygments_lexer": "ipython3",
   "version": "3.9.16"
  }
 },
 "nbformat": 4,
 "nbformat_minor": 5
}
