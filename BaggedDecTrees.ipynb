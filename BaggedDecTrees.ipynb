{
 "cells": [
  {
   "cell_type": "markdown",
   "id": "7bb2dcba",
   "metadata": {},
   "source": [
    "# Bagged Decision Trees"
   ]
  },
  {
   "cell_type": "code",
   "execution_count": 51,
   "id": "050de7fa",
   "metadata": {},
   "outputs": [],
   "source": [
    "import pandas as pd\n",
    "import numpy as np\n",
    "\n",
    "from numpy.random import choice, normal\n",
    "\n",
    "from sklearn.tree import DecisionTreeClassifier\n",
    "from sklearn.ensemble import BaggingClassifier\n",
    "from sklearn.metrics import roc_auc_score\n",
    "\n",
    "from dataloader import DataLoader"
   ]
  },
  {
   "cell_type": "code",
   "execution_count": 46,
   "id": "ccb47b8c",
   "metadata": {},
   "outputs": [],
   "source": [
    "dataloader = DataLoader('data/loan_data_clean.csv',\n",
    "                           feature_names=['person_income', 'loan_int_rate','loan_percent_income', 'loan_intent'],\n",
    "                           target_names=['loan_status'])\n",
    "dataloader.train_test_split()"
   ]
  },
  {
   "cell_type": "markdown",
   "id": "f4811cb0",
   "metadata": {},
   "source": [
    "To apply bagging to decision trees, we create bootstrap samples from our training data by repeatedly sampling with replacement, then train one decision tree on each of these samples, and create an ensemble prediction by averaging over the predictions of the different trees.\n",
    "\n",
    "Bagged decision trees are usually grown large, that is, have many levels and leaf nodes and are not pruned so that each tree has low bias but high variance. The effect of averaging their predictions then aims to reduce their variance. Bagging has been shown to substantially improve predictive performance by constructing ensembles that combine hundreds or even thousands of trees trained on bootstrap samples.\n",
    "\n",
    "To illustrate the effect of bagging on the variance of a regression tree, we can use the `BaggingRegressor` meta-estimator provided by `sklearn`. It trains a user-defined base estimator based on parameters that specify the sampling strategy:"
   ]
  },
  {
   "cell_type": "markdown",
   "id": "3fcfd8fc",
   "metadata": {},
   "source": [
    "- `max_samples` and `max_features` control the size of the subsets drawn from the rows and the columns, respectively\n",
    "- `bootstrap` and `bootstrap_features` determine whether each of these samples is drawn with or without replacement"
   ]
  },
  {
   "cell_type": "code",
   "execution_count": 61,
   "id": "92f06bef",
   "metadata": {},
   "outputs": [
    {
     "data": {
      "text/plain": [
       "0.9286083507814444"
      ]
     },
     "execution_count": 61,
     "metadata": {},
     "output_type": "execute_result"
    }
   ],
   "source": [
    "train_size = 250\n",
    "test_size = 500\n",
    "reps = 100\n",
    "max_depth = 10\n",
    "n_estimators = 10\n",
    "\n",
    "# Define the decision tree regressor and bagging regressor\n",
    "tree = DecisionTreeClassifier(max_depth=max_depth)\n",
    "bagged_tree = BaggingClassifier(estimator=tree, n_estimators=n_estimators)\n",
    "\n",
    "# Train the bagged decision trees\n",
    "bagged_tree.fit(dataloader.features, np.ravel(dataloader.loan_status))\n",
    "\n",
    "# Predict probabilitites\n",
    "default_proba = bagged_tree.predict_proba(dataloader.features_test)[:,1]\n",
    "\n",
    "# Measure performance of the model\n",
    "roc_auc_score(dataloader.loan_status_test, default_proba)"
   ]
  },
  {
   "cell_type": "code",
   "execution_count": null,
   "id": "9dd19bc3",
   "metadata": {},
   "outputs": [],
   "source": []
  },
  {
   "cell_type": "code",
   "execution_count": null,
   "id": "e267817a",
   "metadata": {},
   "outputs": [],
   "source": []
  },
  {
   "cell_type": "code",
   "execution_count": null,
   "id": "2c814c0d",
   "metadata": {},
   "outputs": [],
   "source": []
  }
 ],
 "metadata": {
  "kernelspec": {
   "display_name": "Python 3 (ipykernel)",
   "language": "python",
   "name": "python3"
  },
  "language_info": {
   "codemirror_mode": {
    "name": "ipython",
    "version": 3
   },
   "file_extension": ".py",
   "mimetype": "text/x-python",
   "name": "python",
   "nbconvert_exporter": "python",
   "pygments_lexer": "ipython3",
   "version": "3.9.16"
  }
 },
 "nbformat": 4,
 "nbformat_minor": 5
}
