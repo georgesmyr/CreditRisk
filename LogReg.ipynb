{
 "cells": [
  {
   "cell_type": "markdown",
   "metadata": {},
   "source": [
    "# Regression Model"
   ]
  },
  {
   "cell_type": "code",
   "execution_count": 389,
   "metadata": {},
   "outputs": [],
   "source": [
    "import pandas as pd\n",
    "import numpy as np\n",
    "import matplotlib.pyplot as plt\n",
    "from sklearn.linear_model import LogisticRegression\n",
    "from sklearn.model_selection import train_test_split\n",
    "from sklearn.metrics import (\n",
    "    classification_report,\n",
    "    precision_recall_fscore_support,\n",
    "    roc_curve,\n",
    "    roc_auc_score,\n",
    "    confusion_matrix\n",
    ")\n",
    "\n",
    "class LogisticRegressionCreditRiskModel:\n",
    "\n",
    "    def __init__(self):\n",
    "        self.data = None\n",
    "        self.data_x = None\n",
    "        self.data_y = None\n",
    "        self.x_train = None\n",
    "        self.x_test = None\n",
    "        self.y_train = None\n",
    "        self.y_test = None\n",
    "        self.model = None\n",
    "        self.prob_pred = None\n",
    "        self.y_pred = None\n",
    "\n",
    "    def load_data(self, path):\n",
    "        \"\"\"Loads the loan data from a CSV file.\"\"\"\n",
    "        self.data = pd.read_csv(path)\n",
    "\n",
    "    def preprocess_features(self, x_variables):\n",
    "        \"\"\"Preprocesses the features (X variables).\"\"\"\n",
    "        data_x_num = self.data[x_variables].select_dtypes(exclude='object')\n",
    "        data_x_obj = self.data[x_variables].select_dtypes(include='object')\n",
    "        \n",
    "        if not data_x_obj.empty:\n",
    "            # One-hot encoding\n",
    "            data_x_obj = pd.get_dummies(data_x_obj)\n",
    "        \n",
    "        dfs_x = [df_x for df_x in [data_x_num, data_x_obj] if not df_x.empty]\n",
    "        self.data_x = pd.concat(dfs_x, axis=1)\n",
    "\n",
    "    def preprocess_target(self, y_variables):\n",
    "        \"\"\"Preprocesses the target (Y variables).\"\"\"\n",
    "        data_y_num = self.data[y_variables].select_dtypes(exclude='object')\n",
    "        data_y_obj = self.data[y_variables].select_dtypes(include='object')\n",
    "        \n",
    "        if not data_y_obj.empty:\n",
    "            # One-hot encoding\n",
    "            data_y_obj = pd.get_dummies(data_y_obj)\n",
    "        \n",
    "        dfs_y = [df_y for df_y in [data_y_num, data_y_obj] if not df_y.empty]\n",
    "        self.data_y = pd.concat(dfs_y, axis=1)\n",
    "\n",
    "    def train_test_split(self, test_size=0.4, random_state=126):\n",
    "        \"\"\"Splits the loan dataset into train and test datasets.\"\"\"\n",
    "        self.x_train, self.x_test, self.y_train, self.y_test = train_test_split(\n",
    "            self.data_x, self.data_y,\n",
    "            test_size=test_size,\n",
    "            random_state=random_state\n",
    "        )\n",
    "\n",
    "    def train_model(self, solver='lbfgs'):\n",
    "        \"\"\"Trains the LogisticRegression model.\"\"\"\n",
    "        self.model = LogisticRegression(solver=solver)\n",
    "        self.model.fit(self.x_train, np.ravel(self.y_train))\n",
    "\n",
    "    def predict_proba(self):\n",
    "        \"\"\"Returns the probability of default for the test data.\"\"\"\n",
    "        self.prob_pred = pd.DataFrame(\n",
    "            self.model.predict_proba(self.x_test), columns=[\"prob_default\", \"prob_not_default\"])\n",
    "        return self.prob_pred\n",
    "\n",
    "    def predict_status(self, threshold=0.5):\n",
    "        \"\"\"Returns the predicted loan status for the test data.\"\"\"\n",
    "        self.y_pred = self.predict_proba()[\"prob_default\"]\n",
    "        self.y_pred = self.y_pred.apply(lambda prob : 1 if prob > threshold else 0)\n",
    "        return self.y_pred\n",
    "\n",
    "    def score(self):\n",
    "        \"\"\"Returns the accuracy of the model on the test data.\"\"\"\n",
    "        return self.model.score(self.x_test, self.y_test)\n",
    "\n",
    "    def print_classification_report(self):\n",
    "        \"\"\"Prints the classification report for credit Non-Default and Default.\"\"\"\n",
    "        target_names = ['Non-Default', 'Default']\n",
    "        print(classification_report(self.y_test, self.y_pred, target_names=target_names))\n",
    "\n",
    "    def precision_recall_fscore_support(self):\n",
    "        \"\"\"\n",
    "        Returns precision, recall, F1-score, and support for each class.\n",
    "        precision: percentage of positive predictions that are true positives\n",
    "        recall or sensitivity: percentage of actual instances that were predicted correctly\n",
    "                               true positives / (true positives + false negatives)\n",
    "        \n",
    "        \"\"\"\n",
    "        class_report = precision_recall_fscore_support(self.y_test, self.y_pred)\n",
    "        cols = ['Non-Default', 'Default']\n",
    "        indx = ['Precision', 'Recall', 'F1-Score', 'Support']\n",
    "        self.classification_report = pd.DataFrame(class_report, columns=cols, index=indx)\n",
    "        return self.classification_report\n",
    "\n",
    "    def plot_roc_curve(self):\n",
    "        \"\"\"Plots the ROC curve for the model.\"\"\"\n",
    "        prob_default = self.predict_proba()['prob_default']\n",
    "        fpr, tpr, thresholds = roc_curve(np.ravel(self.y_test), np.ravel(prob_default))\n",
    "        plt.plot(fpr, tpr, color='darkorange')\n",
    "        plt.plot([0, 1], [0, 1], linestyle='--')\n",
    "        plt.xlabel('False Positive Rate')\n",
    "        plt.ylabel('True Positive Rate')\n",
    "        plt.title('ROC Curve')\n",
    "        plt.show()\n",
    "        \n",
    "        \n",
    "    def confusion_matrix(self):\n",
    "        print(confusion_matrix(self.y_test, self.predict_status()))\n"
   ]
  },
  {
   "cell_type": "code",
   "execution_count": 390,
   "metadata": {},
   "outputs": [
    {
     "name": "stdout",
     "output_type": "stream",
     "text": [
      "              precision    recall  f1-score   support\n",
      "\n",
      " Non-Default       0.40      0.04      0.08      9205\n",
      "     Default       0.18      0.77      0.30      2579\n",
      "\n",
      "    accuracy                           0.20     11784\n",
      "   macro avg       0.29      0.41      0.19     11784\n",
      "weighted avg       0.35      0.20      0.12     11784\n",
      "\n"
     ]
    },
    {
     "data": {
      "text/html": [
       "<div>\n",
       "<style scoped>\n",
       "    .dataframe tbody tr th:only-of-type {\n",
       "        vertical-align: middle;\n",
       "    }\n",
       "\n",
       "    .dataframe tbody tr th {\n",
       "        vertical-align: top;\n",
       "    }\n",
       "\n",
       "    .dataframe thead th {\n",
       "        text-align: right;\n",
       "    }\n",
       "</style>\n",
       "<table border=\"1\" class=\"dataframe\">\n",
       "  <thead>\n",
       "    <tr style=\"text-align: right;\">\n",
       "      <th></th>\n",
       "      <th>Non-Default</th>\n",
       "      <th>Default</th>\n",
       "    </tr>\n",
       "  </thead>\n",
       "  <tbody>\n",
       "    <tr>\n",
       "      <th>Precision</th>\n",
       "      <td>0.399177</td>\n",
       "      <td>0.184517</td>\n",
       "    </tr>\n",
       "    <tr>\n",
       "      <th>Recall</th>\n",
       "      <td>0.042151</td>\n",
       "      <td>0.773556</td>\n",
       "    </tr>\n",
       "    <tr>\n",
       "      <th>F1-Score</th>\n",
       "      <td>0.076250</td>\n",
       "      <td>0.297961</td>\n",
       "    </tr>\n",
       "    <tr>\n",
       "      <th>Support</th>\n",
       "      <td>9205.000000</td>\n",
       "      <td>2579.000000</td>\n",
       "    </tr>\n",
       "  </tbody>\n",
       "</table>\n",
       "</div>"
      ],
      "text/plain": [
       "           Non-Default      Default\n",
       "Precision     0.399177     0.184517\n",
       "Recall        0.042151     0.773556\n",
       "F1-Score      0.076250     0.297961\n",
       "Support    9205.000000  2579.000000"
      ]
     },
     "execution_count": 390,
     "metadata": {},
     "output_type": "execute_result"
    }
   ],
   "source": [
    "crm = LogisticRegressionCreditRiskModel()\n",
    "crm.load_data('cr_loan_nout_nmiss.csv')\n",
    "crm.preprocess_features(['person_income','person_age','loan_int_rate'])\n",
    "crm.preprocess_target(['loan_status'])\n",
    "crm.train_test_split(test_size=0.4, random_state=129)\n",
    "crm.train_model()\n",
    "pred_y = crm.predict_status()\n",
    "cr = crm.print_classification_report()\n",
    "crm.precision_recall_fscore_support()"
   ]
  },
  {
   "cell_type": "code",
   "execution_count": 391,
   "metadata": {},
   "outputs": [
    {
     "data": {
      "image/png": "[encoded data removed]",
      "text/plain": [
       "<Figure size 640x480 with 1 Axes>"
      ]
     },
     "metadata": {},
     "output_type": "display_data"
    }
   ],
   "source": [
    "crm.plot_roc_curve()"
   ]
  },
  {
   "cell_type": "code",
   "execution_count": 392,
   "metadata": {},
   "outputs": [
    {
     "data": {
      "text/plain": [
       "0.49150663154016305"
      ]
     },
     "execution_count": 392,
     "metadata": {},
     "output_type": "execute_result"
    }
   ],
   "source": [
    "roc_auc_score(y_test, prob_default)"
   ]
  },
  {
   "cell_type": "code",
   "execution_count": 393,
   "metadata": {},
   "outputs": [
    {
     "name": "stdout",
     "output_type": "stream",
     "text": [
      "[[ 388 8817]\n",
      " [ 584 1995]]\n"
     ]
    }
   ],
   "source": [
    "crm.confusion_matrix()"
   ]
  },
  {
   "cell_type": "code",
   "execution_count": null,
   "metadata": {},
   "outputs": [],
   "source": []
  }
 ],
 "metadata": {
  "kernelspec": {
   "display_name": "Python 3 (ipykernel)",
   "language": "python",
   "name": "python3"
  },
  "language_info": {
   "codemirror_mode": {
    "name": "ipython",
    "version": 3
   },
   "file_extension": ".py",
   "mimetype": "text/x-python",
   "name": "python",
   "nbconvert_exporter": "python",
   "pygments_lexer": "ipython3",
   "version": "3.9.16"
  }
 },
 "nbformat": 4,
 "nbformat_minor": 1
}
