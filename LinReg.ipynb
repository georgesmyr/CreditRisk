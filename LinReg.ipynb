{
 "cells": [
  {
   "cell_type": "markdown",
   "metadata": {},
   "source": [
    "# Regression Model"
   ]
  },
  {
   "cell_type": "code",
   "execution_count": 293,
   "metadata": {},
   "outputs": [],
   "source": [
    "import pandas as pd\n",
    "import numpy as np\n",
    "from sklearn.linear_model import LogisticRegression\n",
    "from sklearn.model_selection import train_test_split\n",
    "from sklearn.metrics import classification_report, precision_recall_fscore_support, roc_curve\n",
    "\n",
    "\n",
    "class LRCreditRiskModel():\n",
    "\n",
    "    def __init__(self, path):\n",
    "        \"\"\"\n",
    "        Initialize the attributes of LRCreditRiskModel\n",
    "        :param path: Path of loan data\n",
    "        \"\"\"\n",
    "        self.data = []    # Loan data   \n",
    "        self.data_x, self.data_y = [], []\n",
    "        self.x_train, self.x_test = [], []\n",
    "        self.y_train, self.y_test = [], []\n",
    "\n",
    "        self.model = None\n",
    "\n",
    "        \n",
    "    def load_data(self, path):\n",
    "        \"\"\"\n",
    "        Loads the loan data from path\n",
    "        :param path: path of csv file\n",
    "        \"\"\"\n",
    "        self.data = pd.read_csv(path)\n",
    "\n",
    "\n",
    "    def set_regression_variables(self, x_variables : list, y_variables : list):\n",
    "        \"\"\"\n",
    "        Sets the x and y variables for the logistic regression\n",
    "        \n",
    "        :param x_variables: column names for x variable in self.data\n",
    "        :param y_variables: column names for y variable in self.data\n",
    "        \"\"\"\n",
    "        # X VARIABLES\n",
    "        data_x_num = self.data[x_variables].select_dtypes(exclude='object')\n",
    "        data_x_obj = self.data[x_variables].select_dtypes(include='object')\n",
    "        if not data_x_obj.empty:\n",
    "            # One-hot encoding\n",
    "            data_x_obj = pd.get_dummies(data_x_obj) \n",
    "        dfs_x = [df_x for df_x in [data_x_num, data_x_obj] if not df_x.empty]\n",
    "        self.data_x = pd.concat(dfs_x, axis=1)\n",
    "        \n",
    "        # Y VARIABLES\n",
    "        data_y_num = self.data[y_variables].select_dtypes(exclude='object')\n",
    "        data_y_obj = self.data[y_variables].select_dtypes(include='object')\n",
    "        if not data_y_obj.empty:\n",
    "            # One-hot encoding\n",
    "            data_y_obj = pd.get_dummies(data_y_obj)\n",
    "        dfs_y = [df_y for df_y in [data_y_num, data_y_obj] if not df_y.empty]\n",
    "        self.data_y = pd.concat(dfs_y, axis=1)\n",
    "        \n",
    "\n",
    "    def train_test_split(self, test_size=0.4, random_state=126):\n",
    "        \"\"\"\n",
    "        Split the loan dataset into train and test datasets\n",
    "        :param test_size: ratio of test to train size of datasets\n",
    "        \"\"\"\n",
    "        self.x_train, self.x_test, self.y_train, self.y_test = train_test_split(self.data_x, self.data_y,\n",
    "                                                                test_size=test_size,\n",
    "                                                                random_state=random_state)\n",
    "\n",
    "\n",
    "    def train_model(self, solver='lbfgs') -> pd.DataFrame:\n",
    "        \"\"\"\n",
    "        Trains the LogisticRegression model\n",
    "        \"\"\"\n",
    "        self.model = LogisticRegression(solver=solver)\n",
    "        self.model.fit(self.x_train, np.ravel(self.y_train)) # Ravel turns pd.Series to 1D np.array\n",
    "        \n",
    "        \n",
    "    def predict_proba(self, data_x : pd.DataFrame) -> pd.DataFrame:\n",
    "        \"\"\"\n",
    "        Returns the probability of default\n",
    "        :param data_x: data x for which to predict the probability of default\n",
    "        :return: \n",
    "        \"\"\"\n",
    "        prob_preds = pd.DataFrame(self.model.predict_proba(data_x), columns=[\"prob_default\", \"prob_not_default\"])\n",
    "        \n",
    "        \n",
    "        return prob_preds\n",
    "    \n",
    "    \n",
    "    def predict_status(self, data_x, threshold=0.5):\n",
    "        \"\"\"\n",
    "        Returns the predicted loan status for data_x. \n",
    "        :param data_x:\n",
    "        :param threshold: predicted probability of default over threshold is assigned to default loan status\n",
    "                          predicted probability of default below threshold is assigned to not default loan status\n",
    "        \"\"\"\n",
    "        prob_preds = self.predict_proba(data_x)[\"prob_default\"]\n",
    "        return prob_preds.apply(lambda prob : 1 if prob > threshold else 0)\n",
    "\n",
    "    \n",
    "    \n",
    "    def score(self, data_x : pd.DataFrame, data_y : pd.DataFrame):\n",
    "        \"\"\"\n",
    "        Returns the accuracy of the model for the model for the data_x, data_y\n",
    "        which is (numeber of correct predictions) / (total number of predictions)\n",
    "        :data_x: x data\n",
    "        :data_y: y data (loan_status)\n",
    "        :return: accuracy\n",
    "        \"\"\"\n",
    "        return self.model.score(data_x, data_y)\n",
    "    \n",
    "\n",
    "    def classification_report(self, true_y, pred_y):\n",
    "        \"\"\"\n",
    "        Returns the classification report for credit Non-Default, Default \n",
    "        \"\"\"\n",
    "        target_names=['Non-Default', 'Defaults']\n",
    "        print(classification_report(true_y, pred_y, target_names=target_names))\n",
    "    \n",
    "    \n",
    "    def precision_recall_fscore_support(self, true_y, pred_y):\n",
    "        \"\"\"\n",
    "        Returns a \n",
    "        \"\"\"\n",
    "        class_report = precision_recall_fscore_support(true_y, pred_y)\n",
    "        cols = ['Non-Defaults', 'Defaults']\n",
    "        indx = ['precision', 'recall', 'f1_score', 'support']\n",
    "        return pd.DataFrame(class_report, columns=cols, index=indx)"
   ]
  },
  {
   "cell_type": "code",
   "execution_count": 294,
   "metadata": {},
   "outputs": [
    {
     "name": "stdout",
     "output_type": "stream",
     "text": [
      "              precision    recall  f1-score   support\n",
      "\n",
      " Non-Default       0.40      0.04      0.08      9205\n",
      "    Defaults       0.18      0.77      0.30      2579\n",
      "\n",
      "    accuracy                           0.20     11784\n",
      "   macro avg       0.29      0.41      0.19     11784\n",
      "weighted avg       0.35      0.20      0.12     11784\n",
      "\n"
     ]
    }
   ],
   "source": [
    "crm = LRCreditRiskModel(\"\")\n",
    "crm.load_data('cr_loan_nout_nmiss.csv')\n",
    "crm.set_regression_variables(['person_income','person_age','loan_int_rate'],['loan_status'])\n",
    "crm.train_test_split(test_size=0.4, random_state=129)\n",
    "crm.train_model()\n",
    "pred_y = crm.predict_status(crm.x_test)\n",
    "cr = crm.classification_report(crm.y_test, pred_y)\n",
    "print(cr)"
   ]
  },
  {
   "cell_type": "code",
   "execution_count": 299,
   "metadata": {},
   "outputs": [
    {
     "data": {
      "text/plain": [
       "0.3991769547325103"
      ]
     },
     "execution_count": 299,
     "metadata": {},
     "output_type": "execute_result"
    }
   ],
   "source": [
    "crm.precision_recall_fscore_support(crm.y_test, pred_y)[\"Non-Defaults\"][\"recision\"]"
   ]
  },
  {
   "cell_type": "code",
   "execution_count": 306,
   "metadata": {},
   "outputs": [
    {
     "data": {
      "text/plain": [
       "0        0.377406\n",
       "1        0.980849\n",
       "2        0.991184\n",
       "3        0.502413\n",
       "4        0.940021\n",
       "           ...   \n",
       "11779    0.685109\n",
       "11780    0.691702\n",
       "11781    0.582479\n",
       "11782    0.893059\n",
       "11783    0.922795\n",
       "Name: prob_default, Length: 11784, dtype: float64"
      ]
     },
     "execution_count": 306,
     "metadata": {},
     "output_type": "execute_result"
    }
   ],
   "source": [
    "prob_default = crm.predict_proba(crm.x_test)[\"prob_default\"]\n",
    "prob_default"
   ]
  },
  {
   "cell_type": "code",
   "execution_count": 313,
   "metadata": {},
   "outputs": [
    {
     "data": {
      "image/png": "[encoded data removed]",
      "text/plain": [
       "<Figure size 640x480 with 1 Axes>"
      ]
     },
     "metadata": {},
     "output_type": "display_data"
    }
   ],
   "source": [
    "fallout, sensitivity, thresholds = roc_curve(np.ravel(crm.y_test), np.ravel(prob_default))\n",
    "plt.plot(fallout, sensitivity, color = 'darkorange')\n",
    "plt.plot([0, 1], [0, 1], linestyle='--')\n",
    "plt.show()\n",
    "\n",
    "# Compute the AUC and store it in a variable\n",
    "# auc = roc_auc_score(y_test, prob_default)"
   ]
  },
  {
   "cell_type": "code",
   "execution_count": 311,
   "metadata": {},
   "outputs": [],
   "source": [
    "import matplotlib.pyplot as plt"
   ]
  },
  {
   "cell_type": "code",
   "execution_count": null,
   "metadata": {},
   "outputs": [],
   "source": []
  },
  {
   "cell_type": "code",
   "execution_count": null,
   "metadata": {},
   "outputs": [],
   "source": []
  }
 ],
 "metadata": {
  "kernelspec": {
   "display_name": "Python 3 (ipykernel)",
   "language": "python",
   "name": "python3"
  },
  "language_info": {
   "codemirror_mode": {
    "name": "ipython",
    "version": 3
   },
   "file_extension": ".py",
   "mimetype": "text/x-python",
   "name": "python",
   "nbconvert_exporter": "python",
   "pygments_lexer": "ipython3",
   "version": "3.9.16"
  }
 },
 "nbformat": 4,
 "nbformat_minor": 1
}
