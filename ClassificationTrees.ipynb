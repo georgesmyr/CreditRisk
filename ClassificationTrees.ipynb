{
 "cells": [
  {
   "cell_type": "markdown",
   "id": "3582cfb8",
   "metadata": {},
   "source": [
    "# Imports"
   ]
  },
  {
   "cell_type": "code",
   "execution_count": 603,
   "id": "2f408d19",
   "metadata": {},
   "outputs": [],
   "source": [
    "from pathlib import Path\n",
    "\n",
    "import pandas as pd\n",
    "import numpy as np\n",
    "\n",
    "from sklearn.model_selection import train_test_split, GridSearchCV\n",
    "from sklearn.tree import DecisionTreeClassifier, export_graphviz\n",
    "\n",
    "from sklearn.metrics import roc_auc_score\n",
    "\n",
    "\n",
    "import data_loader as dl\n",
    "import utils"
   ]
  },
  {
   "cell_type": "markdown",
   "id": "8a79b510",
   "metadata": {},
   "source": [
    "# Load Data"
   ]
  },
  {
   "cell_type": "code",
   "execution_count": 604,
   "id": "c7206413",
   "metadata": {},
   "outputs": [],
   "source": [
    "ld = dl.DataLoader('data/loan_data_clean.csv',\n",
    "                   ['person_income', 'loan_int_rate','loan_percent_income', 'loan_intent'],\n",
    "                   ['loan_status'])\n",
    "ld.train_test_split(test_size=0.4, random_state=154)"
   ]
  },
  {
   "cell_type": "markdown",
   "id": "83431349",
   "metadata": {},
   "source": [
    "# Train the decision tree"
   ]
  },
  {
   "cell_type": "code",
   "execution_count": 605,
   "id": "685a7906",
   "metadata": {},
   "outputs": [
    {
     "data": {
      "text/html": [
       "<style>#sk-container-id-7 {color: black;}#sk-container-id-7 pre{padding: 0;}#sk-container-id-7 div.sk-toggleable {background-color: white;}#sk-container-id-7 label.sk-toggleable__label {cursor: pointer;display: block;width: 100%;margin-bottom: 0;padding: 0.3em;box-sizing: border-box;text-align: center;}#sk-container-id-7 label.sk-toggleable__label-arrow:before {content: \"▸\";float: left;margin-right: 0.25em;color: #696969;}#sk-container-id-7 label.sk-toggleable__label-arrow:hover:before {color: black;}#sk-container-id-7 div.sk-estimator:hover label.sk-toggleable__label-arrow:before {color: black;}#sk-container-id-7 div.sk-toggleable__content {max-height: 0;max-width: 0;overflow: hidden;text-align: left;background-color: #f0f8ff;}#sk-container-id-7 div.sk-toggleable__content pre {margin: 0.2em;color: black;border-radius: 0.25em;background-color: #f0f8ff;}#sk-container-id-7 input.sk-toggleable__control:checked~div.sk-toggleable__content {max-height: 200px;max-width: 100%;overflow: auto;}#sk-container-id-7 input.sk-toggleable__control:checked~label.sk-toggleable__label-arrow:before {content: \"▾\";}#sk-container-id-7 div.sk-estimator input.sk-toggleable__control:checked~label.sk-toggleable__label {background-color: #d4ebff;}#sk-container-id-7 div.sk-label input.sk-toggleable__control:checked~label.sk-toggleable__label {background-color: #d4ebff;}#sk-container-id-7 input.sk-hidden--visually {border: 0;clip: rect(1px 1px 1px 1px);clip: rect(1px, 1px, 1px, 1px);height: 1px;margin: -1px;overflow: hidden;padding: 0;position: absolute;width: 1px;}#sk-container-id-7 div.sk-estimator {font-family: monospace;background-color: #f0f8ff;border: 1px dotted black;border-radius: 0.25em;box-sizing: border-box;margin-bottom: 0.5em;}#sk-container-id-7 div.sk-estimator:hover {background-color: #d4ebff;}#sk-container-id-7 div.sk-parallel-item::after {content: \"\";width: 100%;border-bottom: 1px solid gray;flex-grow: 1;}#sk-container-id-7 div.sk-label:hover label.sk-toggleable__label {background-color: #d4ebff;}#sk-container-id-7 div.sk-serial::before {content: \"\";position: absolute;border-left: 1px solid gray;box-sizing: border-box;top: 0;bottom: 0;left: 50%;z-index: 0;}#sk-container-id-7 div.sk-serial {display: flex;flex-direction: column;align-items: center;background-color: white;padding-right: 0.2em;padding-left: 0.2em;position: relative;}#sk-container-id-7 div.sk-item {position: relative;z-index: 1;}#sk-container-id-7 div.sk-parallel {display: flex;align-items: stretch;justify-content: center;background-color: white;position: relative;}#sk-container-id-7 div.sk-item::before, #sk-container-id-7 div.sk-parallel-item::before {content: \"\";position: absolute;border-left: 1px solid gray;box-sizing: border-box;top: 0;bottom: 0;left: 50%;z-index: -1;}#sk-container-id-7 div.sk-parallel-item {display: flex;flex-direction: column;z-index: 1;position: relative;background-color: white;}#sk-container-id-7 div.sk-parallel-item:first-child::after {align-self: flex-end;width: 50%;}#sk-container-id-7 div.sk-parallel-item:last-child::after {align-self: flex-start;width: 50%;}#sk-container-id-7 div.sk-parallel-item:only-child::after {width: 0;}#sk-container-id-7 div.sk-dashed-wrapped {border: 1px dashed gray;margin: 0 0.4em 0.5em 0.4em;box-sizing: border-box;padding-bottom: 0.4em;background-color: white;}#sk-container-id-7 div.sk-label label {font-family: monospace;font-weight: bold;display: inline-block;line-height: 1.2em;}#sk-container-id-7 div.sk-label-container {text-align: center;}#sk-container-id-7 div.sk-container {/* jupyter's `normalize.less` sets `[hidden] { display: none; }` but bootstrap.min.css set `[hidden] { display: none !important; }` so we also need the `!important` here to be able to override the default hidden behavior on the sphinx rendered scikit-learn.org. See: https://github.com/scikit-learn/scikit-learn/issues/21755 */display: inline-block !important;position: relative;}#sk-container-id-7 div.sk-text-repr-fallback {display: none;}</style><div id=\"sk-container-id-7\" class=\"sk-top-container\"><div class=\"sk-text-repr-fallback\"><pre>DecisionTreeClassifier(max_depth=5, min_samples_split=1000, random_state=42)</pre><b>In a Jupyter environment, please rerun this cell to show the HTML representation or trust the notebook. <br />On GitHub, the HTML representation is unable to render, please try loading this page with nbviewer.org.</b></div><div class=\"sk-container\" hidden><div class=\"sk-item\"><div class=\"sk-estimator sk-toggleable\"><input class=\"sk-toggleable__control sk-hidden--visually\" id=\"sk-estimator-id-17\" type=\"checkbox\" checked><label for=\"sk-estimator-id-17\" class=\"sk-toggleable__label sk-toggleable__label-arrow\">DecisionTreeClassifier</label><div class=\"sk-toggleable__content\"><pre>DecisionTreeClassifier(max_depth=5, min_samples_split=1000, random_state=42)</pre></div></div></div></div></div>"
      ],
      "text/plain": [
       "DecisionTreeClassifier(max_depth=5, min_samples_split=1000, random_state=42)"
      ]
     },
     "execution_count": 605,
     "metadata": {},
     "output_type": "execute_result"
    }
   ],
   "source": [
    "clf_tree0 = DecisionTreeClassifier(criterion='gini',\n",
    "                                     splitter='best',\n",
    "                                     max_depth=5,\n",
    "                                     min_samples_split=1000,\n",
    "                                     min_samples_leaf=1,\n",
    "                                     min_weight_fraction_leaf=0.0,\n",
    "                                     random_state=42,\n",
    "                                     min_impurity_decrease=0.0)\n",
    "\n",
    "\n",
    "clf_tree0.fit(ld.features_train, ld.loan_status_train)"
   ]
  },
  {
   "cell_type": "code",
   "execution_count": 606,
   "id": "38ed8b48",
   "metadata": {},
   "outputs": [
    {
     "data": {
      "text/plain": [
       "0.8642154498826626"
      ]
     },
     "execution_count": 606,
     "metadata": {},
     "output_type": "execute_result"
    }
   ],
   "source": [
    "default_prob = clf_tree0.predict_proba(ld.features_test)[:,1]\n",
    "roc_auc_score(y_true = ld.loan_status_test, y_score = default_prob)"
   ]
  },
  {
   "cell_type": "markdown",
   "id": "baafdd7f",
   "metadata": {},
   "source": [
    "# Hyperparameter tuning with Grid Search Cross Validation (GridSearchCV)"
   ]
  },
  {
   "cell_type": "code",
   "execution_count": 607,
   "id": "bbc3b177",
   "metadata": {},
   "outputs": [],
   "source": [
    "# Define the DecisionTreeClassifier with specific random state\n",
    "clf_tree = DecisionTreeClassifier(random_state=42)"
   ]
  },
  {
   "cell_type": "code",
   "execution_count": 608,
   "id": "f526053f",
   "metadata": {},
   "outputs": [],
   "source": [
    "# Define the grid of candidate parameters for the best estimator\n",
    "param_grid = {'max_depth': [2, 3, 4, 5, 6, 7, 8, 10, 12, 15],\n",
    "              'min_samples_leaf': [5, 25, 50, 100],\n",
    "              'max_features': [None, 'sqrt', 'log2', 0.5],\n",
    "              'min_samples_split': [2, 100, 1000, 5000]}"
   ]
  },
  {
   "cell_type": "code",
   "execution_count": 609,
   "id": "4ec3f29d",
   "metadata": {},
   "outputs": [],
   "source": [
    "# Define the GridSearchCV instance\n",
    "grid_search = GridSearchCV(estimator=clf_tree,          # Estimator, for us the DecisionTreeClassifier\n",
    "                          param_grid=param_grid,   # Grid of parameters\n",
    "                          scoring='roc_auc',       # Criterion for comparing the classifiers\n",
    "                          n_jobs=-1,               # Paralelisation. For us no.\n",
    "                          cv=5,                    # Number of sub-datasets for cross validation\n",
    "                          refit=True,              # Return the estimator with the best hyperparameters\n",
    "                          return_train_score=True) # Return the score for the best estimator"
   ]
  },
  {
   "cell_type": "code",
   "execution_count": 531,
   "id": "b220761e",
   "metadata": {},
   "outputs": [
    {
     "data": {
      "text/html": [
       "<style>#sk-container-id-6 {color: black;}#sk-container-id-6 pre{padding: 0;}#sk-container-id-6 div.sk-toggleable {background-color: white;}#sk-container-id-6 label.sk-toggleable__label {cursor: pointer;display: block;width: 100%;margin-bottom: 0;padding: 0.3em;box-sizing: border-box;text-align: center;}#sk-container-id-6 label.sk-toggleable__label-arrow:before {content: \"▸\";float: left;margin-right: 0.25em;color: #696969;}#sk-container-id-6 label.sk-toggleable__label-arrow:hover:before {color: black;}#sk-container-id-6 div.sk-estimator:hover label.sk-toggleable__label-arrow:before {color: black;}#sk-container-id-6 div.sk-toggleable__content {max-height: 0;max-width: 0;overflow: hidden;text-align: left;background-color: #f0f8ff;}#sk-container-id-6 div.sk-toggleable__content pre {margin: 0.2em;color: black;border-radius: 0.25em;background-color: #f0f8ff;}#sk-container-id-6 input.sk-toggleable__control:checked~div.sk-toggleable__content {max-height: 200px;max-width: 100%;overflow: auto;}#sk-container-id-6 input.sk-toggleable__control:checked~label.sk-toggleable__label-arrow:before {content: \"▾\";}#sk-container-id-6 div.sk-estimator input.sk-toggleable__control:checked~label.sk-toggleable__label {background-color: #d4ebff;}#sk-container-id-6 div.sk-label input.sk-toggleable__control:checked~label.sk-toggleable__label {background-color: #d4ebff;}#sk-container-id-6 input.sk-hidden--visually {border: 0;clip: rect(1px 1px 1px 1px);clip: rect(1px, 1px, 1px, 1px);height: 1px;margin: -1px;overflow: hidden;padding: 0;position: absolute;width: 1px;}#sk-container-id-6 div.sk-estimator {font-family: monospace;background-color: #f0f8ff;border: 1px dotted black;border-radius: 0.25em;box-sizing: border-box;margin-bottom: 0.5em;}#sk-container-id-6 div.sk-estimator:hover {background-color: #d4ebff;}#sk-container-id-6 div.sk-parallel-item::after {content: \"\";width: 100%;border-bottom: 1px solid gray;flex-grow: 1;}#sk-container-id-6 div.sk-label:hover label.sk-toggleable__label {background-color: #d4ebff;}#sk-container-id-6 div.sk-serial::before {content: \"\";position: absolute;border-left: 1px solid gray;box-sizing: border-box;top: 0;bottom: 0;left: 50%;z-index: 0;}#sk-container-id-6 div.sk-serial {display: flex;flex-direction: column;align-items: center;background-color: white;padding-right: 0.2em;padding-left: 0.2em;position: relative;}#sk-container-id-6 div.sk-item {position: relative;z-index: 1;}#sk-container-id-6 div.sk-parallel {display: flex;align-items: stretch;justify-content: center;background-color: white;position: relative;}#sk-container-id-6 div.sk-item::before, #sk-container-id-6 div.sk-parallel-item::before {content: \"\";position: absolute;border-left: 1px solid gray;box-sizing: border-box;top: 0;bottom: 0;left: 50%;z-index: -1;}#sk-container-id-6 div.sk-parallel-item {display: flex;flex-direction: column;z-index: 1;position: relative;background-color: white;}#sk-container-id-6 div.sk-parallel-item:first-child::after {align-self: flex-end;width: 50%;}#sk-container-id-6 div.sk-parallel-item:last-child::after {align-self: flex-start;width: 50%;}#sk-container-id-6 div.sk-parallel-item:only-child::after {width: 0;}#sk-container-id-6 div.sk-dashed-wrapped {border: 1px dashed gray;margin: 0 0.4em 0.5em 0.4em;box-sizing: border-box;padding-bottom: 0.4em;background-color: white;}#sk-container-id-6 div.sk-label label {font-family: monospace;font-weight: bold;display: inline-block;line-height: 1.2em;}#sk-container-id-6 div.sk-label-container {text-align: center;}#sk-container-id-6 div.sk-container {/* jupyter's `normalize.less` sets `[hidden] { display: none; }` but bootstrap.min.css set `[hidden] { display: none !important; }` so we also need the `!important` here to be able to override the default hidden behavior on the sphinx rendered scikit-learn.org. See: https://github.com/scikit-learn/scikit-learn/issues/21755 */display: inline-block !important;position: relative;}#sk-container-id-6 div.sk-text-repr-fallback {display: none;}</style><div id=\"sk-container-id-6\" class=\"sk-top-container\"><div class=\"sk-text-repr-fallback\"><pre>GridSearchCV(cv=5, estimator=DecisionTreeClassifier(random_state=42), n_jobs=-1,\n",
       "             param_grid={&#x27;max_depth&#x27;: [2, 3, 4, 5, 6, 7, 8, 10, 12, 15],\n",
       "                         &#x27;max_features&#x27;: [None, &#x27;sqrt&#x27;, &#x27;log2&#x27;, 0.5],\n",
       "                         &#x27;min_samples_leaf&#x27;: [5, 25, 50, 100],\n",
       "                         &#x27;min_samples_split&#x27;: [2, 100, 1000, 5000]},\n",
       "             return_train_score=True, scoring=&#x27;roc_auc&#x27;)</pre><b>In a Jupyter environment, please rerun this cell to show the HTML representation or trust the notebook. <br />On GitHub, the HTML representation is unable to render, please try loading this page with nbviewer.org.</b></div><div class=\"sk-container\" hidden><div class=\"sk-item sk-dashed-wrapped\"><div class=\"sk-label-container\"><div class=\"sk-label sk-toggleable\"><input class=\"sk-toggleable__control sk-hidden--visually\" id=\"sk-estimator-id-14\" type=\"checkbox\" ><label for=\"sk-estimator-id-14\" class=\"sk-toggleable__label sk-toggleable__label-arrow\">GridSearchCV</label><div class=\"sk-toggleable__content\"><pre>GridSearchCV(cv=5, estimator=DecisionTreeClassifier(random_state=42), n_jobs=-1,\n",
       "             param_grid={&#x27;max_depth&#x27;: [2, 3, 4, 5, 6, 7, 8, 10, 12, 15],\n",
       "                         &#x27;max_features&#x27;: [None, &#x27;sqrt&#x27;, &#x27;log2&#x27;, 0.5],\n",
       "                         &#x27;min_samples_leaf&#x27;: [5, 25, 50, 100],\n",
       "                         &#x27;min_samples_split&#x27;: [2, 100, 1000, 5000]},\n",
       "             return_train_score=True, scoring=&#x27;roc_auc&#x27;)</pre></div></div></div><div class=\"sk-parallel\"><div class=\"sk-parallel-item\"><div class=\"sk-item\"><div class=\"sk-label-container\"><div class=\"sk-label sk-toggleable\"><input class=\"sk-toggleable__control sk-hidden--visually\" id=\"sk-estimator-id-15\" type=\"checkbox\" ><label for=\"sk-estimator-id-15\" class=\"sk-toggleable__label sk-toggleable__label-arrow\">estimator: DecisionTreeClassifier</label><div class=\"sk-toggleable__content\"><pre>DecisionTreeClassifier(random_state=42)</pre></div></div></div><div class=\"sk-serial\"><div class=\"sk-item\"><div class=\"sk-estimator sk-toggleable\"><input class=\"sk-toggleable__control sk-hidden--visually\" id=\"sk-estimator-id-16\" type=\"checkbox\" ><label for=\"sk-estimator-id-16\" class=\"sk-toggleable__label sk-toggleable__label-arrow\">DecisionTreeClassifier</label><div class=\"sk-toggleable__content\"><pre>DecisionTreeClassifier(random_state=42)</pre></div></div></div></div></div></div></div></div></div></div>"
      ],
      "text/plain": [
       "GridSearchCV(cv=5, estimator=DecisionTreeClassifier(random_state=42), n_jobs=-1,\n",
       "             param_grid={'max_depth': [2, 3, 4, 5, 6, 7, 8, 10, 12, 15],\n",
       "                         'max_features': [None, 'sqrt', 'log2', 0.5],\n",
       "                         'min_samples_leaf': [5, 25, 50, 100],\n",
       "                         'min_samples_split': [2, 100, 1000, 5000]},\n",
       "             return_train_score=True, scoring='roc_auc')"
      ]
     },
     "execution_count": 531,
     "metadata": {},
     "output_type": "execute_result"
    }
   ],
   "source": [
    "# Fit the grid search to the training datasets\n",
    "grid_search.fit(ld.features_train, ld.loan_status_train)"
   ]
  },
  {
   "cell_type": "code",
   "execution_count": 303,
   "id": "939df24e",
   "metadata": {},
   "outputs": [
    {
     "name": "stdout",
     "output_type": "stream",
     "text": [
      "Hyperparameters for the best classification decision tree from grid search:\n",
      "max_depth:  15\n",
      "max_features:  None\n",
      "min_samples_leaf:  100\n",
      "min_samples_split:  2\n",
      "score:  0.8837158224347983\n"
     ]
    }
   ],
   "source": [
    "# Print the hyperparameters and score for the best estimator from the grid search cross validation\n",
    "print(\"Hyperparameters for the best classification decision tree from grid search:\")\n",
    "for hyperparam, value in grid_search.best_params_.items():\n",
    "    print(hyperparam + \": \", value)\n",
    "    \n",
    "best_score = grid_search.best_score_\n",
    "print(\"score: \", best_score)"
   ]
  },
  {
   "cell_type": "code",
   "execution_count": 10,
   "id": "8d09de17",
   "metadata": {},
   "outputs": [],
   "source": [
    "# Best classification decision tree\n",
    "best_clf_tree = grid_search.best_estimator_"
   ]
  },
  {
   "cell_type": "markdown",
   "id": "36d30e77",
   "metadata": {},
   "source": [
    "# Custom grid search cross validation"
   ]
  },
  {
   "cell_type": "markdown",
   "id": "f13efb2c",
   "metadata": {},
   "source": [
    "I also illustrates now how to run cross-validation more manually to obtain custom tree attributes, such as the total number of nodes or leaf nodes associated with certain hyperparameter settings. The following function accesses the internal .tree_ attribute to retrieve information about the total node count, as well as how many of these nodes are leaf nodes."
   ]
  },
  {
   "cell_type": "code",
   "execution_count": 3,
   "id": "2e24a6dd",
   "metadata": {},
   "outputs": [],
   "source": [
    "from treegridsearchcv import get_leaves_count"
   ]
  },
  {
   "cell_type": "code",
   "execution_count": 13,
   "id": "57040529",
   "metadata": {},
   "outputs": [
    {
     "data": {
      "text/plain": [
       "121"
      ]
     },
     "execution_count": 13,
     "metadata": {},
     "output_type": "execute_result"
    }
   ],
   "source": [
    "get_leaves_count(best_clf_tree)"
   ]
  },
  {
   "cell_type": "code",
   "execution_count": 747,
   "id": "dd5c1286",
   "metadata": {},
   "outputs": [],
   "source": [
    "from sklearn.model_selection import KFold\n",
    "from itertools import product\n",
    "\n",
    "\n",
    "class ModelCalculations():\n",
    "    \n",
    "    def __init__(self):\n",
    "        \"\"\"Initialize ModelCalculations instance\"\"\"\n",
    "        self.estimator = None\n",
    "              \n",
    "            \n",
    "    def set_estimator(self, estimator):\n",
    "        \"\"\"Sets the estimator to do the calculations for\"\"\"\n",
    "        self.estimator = estimator\n",
    "            \n",
    "    \n",
    "    def get_leaves_count(self):\n",
    "        \"\"\"\n",
    "        Returns the number of leaves in the tree\n",
    "        The child_left[i] method returns the number of the node the is the left child of node i.\n",
    "        If the node i is a leaf node, child_left[i] = -1. Therefore\n",
    "        \"\"\"\n",
    "        t = self.estimator.tree_\n",
    "        n = t.node_count\n",
    "        leaves = len([i for i in range(n) if t.children_left[i]== -1])\n",
    "        return {\"leaves_count\": leaves}\n",
    "    \n",
    "    \n",
    "    def other_calc(self):\n",
    "        return {\"random_calc\": 666}\n",
    "    \n",
    "    \n",
    "    def calculate(self):\n",
    "        \"\"\" Entry point to do all the calculations\"\"\"\n",
    "        \n",
    "        return {**self.get_leaves_count(), **self.other_calc()}\n",
    "     \n",
    "\n"
   ]
  },
  {
   "cell_type": "code",
   "execution_count": 748,
   "id": "f4f00eff",
   "metadata": {},
   "outputs": [],
   "source": [
    "calcs = ModelCalculations()\n",
    "grid = {'max_depth': [2, 3], 'min_samples_leaf': [5, 25], 'min_samples_split': [2, 100]}\n",
    "tgsv = GridSearchCVPlus(estimator=DecisionTreeClassifier(random_state=42),\n",
    "                        param_grid = grid, model_calculations = calcs, cv=3)"
   ]
  },
  {
   "cell_type": "code",
   "execution_count": 749,
   "id": "726e0ce9",
   "metadata": {},
   "outputs": [],
   "source": [
    "df = tgsv.fit(ld.features, ld.loan_status)"
   ]
  },
  {
   "cell_type": "code",
   "execution_count": 751,
   "id": "3342a483",
   "metadata": {},
   "outputs": [
    {
     "data": {
      "text/html": [
       "<style>#sk-container-id-11 {color: black;}#sk-container-id-11 pre{padding: 0;}#sk-container-id-11 div.sk-toggleable {background-color: white;}#sk-container-id-11 label.sk-toggleable__label {cursor: pointer;display: block;width: 100%;margin-bottom: 0;padding: 0.3em;box-sizing: border-box;text-align: center;}#sk-container-id-11 label.sk-toggleable__label-arrow:before {content: \"▸\";float: left;margin-right: 0.25em;color: #696969;}#sk-container-id-11 label.sk-toggleable__label-arrow:hover:before {color: black;}#sk-container-id-11 div.sk-estimator:hover label.sk-toggleable__label-arrow:before {color: black;}#sk-container-id-11 div.sk-toggleable__content {max-height: 0;max-width: 0;overflow: hidden;text-align: left;background-color: #f0f8ff;}#sk-container-id-11 div.sk-toggleable__content pre {margin: 0.2em;color: black;border-radius: 0.25em;background-color: #f0f8ff;}#sk-container-id-11 input.sk-toggleable__control:checked~div.sk-toggleable__content {max-height: 200px;max-width: 100%;overflow: auto;}#sk-container-id-11 input.sk-toggleable__control:checked~label.sk-toggleable__label-arrow:before {content: \"▾\";}#sk-container-id-11 div.sk-estimator input.sk-toggleable__control:checked~label.sk-toggleable__label {background-color: #d4ebff;}#sk-container-id-11 div.sk-label input.sk-toggleable__control:checked~label.sk-toggleable__label {background-color: #d4ebff;}#sk-container-id-11 input.sk-hidden--visually {border: 0;clip: rect(1px 1px 1px 1px);clip: rect(1px, 1px, 1px, 1px);height: 1px;margin: -1px;overflow: hidden;padding: 0;position: absolute;width: 1px;}#sk-container-id-11 div.sk-estimator {font-family: monospace;background-color: #f0f8ff;border: 1px dotted black;border-radius: 0.25em;box-sizing: border-box;margin-bottom: 0.5em;}#sk-container-id-11 div.sk-estimator:hover {background-color: #d4ebff;}#sk-container-id-11 div.sk-parallel-item::after {content: \"\";width: 100%;border-bottom: 1px solid gray;flex-grow: 1;}#sk-container-id-11 div.sk-label:hover label.sk-toggleable__label {background-color: #d4ebff;}#sk-container-id-11 div.sk-serial::before {content: \"\";position: absolute;border-left: 1px solid gray;box-sizing: border-box;top: 0;bottom: 0;left: 50%;z-index: 0;}#sk-container-id-11 div.sk-serial {display: flex;flex-direction: column;align-items: center;background-color: white;padding-right: 0.2em;padding-left: 0.2em;position: relative;}#sk-container-id-11 div.sk-item {position: relative;z-index: 1;}#sk-container-id-11 div.sk-parallel {display: flex;align-items: stretch;justify-content: center;background-color: white;position: relative;}#sk-container-id-11 div.sk-item::before, #sk-container-id-11 div.sk-parallel-item::before {content: \"\";position: absolute;border-left: 1px solid gray;box-sizing: border-box;top: 0;bottom: 0;left: 50%;z-index: -1;}#sk-container-id-11 div.sk-parallel-item {display: flex;flex-direction: column;z-index: 1;position: relative;background-color: white;}#sk-container-id-11 div.sk-parallel-item:first-child::after {align-self: flex-end;width: 50%;}#sk-container-id-11 div.sk-parallel-item:last-child::after {align-self: flex-start;width: 50%;}#sk-container-id-11 div.sk-parallel-item:only-child::after {width: 0;}#sk-container-id-11 div.sk-dashed-wrapped {border: 1px dashed gray;margin: 0 0.4em 0.5em 0.4em;box-sizing: border-box;padding-bottom: 0.4em;background-color: white;}#sk-container-id-11 div.sk-label label {font-family: monospace;font-weight: bold;display: inline-block;line-height: 1.2em;}#sk-container-id-11 div.sk-label-container {text-align: center;}#sk-container-id-11 div.sk-container {/* jupyter's `normalize.less` sets `[hidden] { display: none; }` but bootstrap.min.css set `[hidden] { display: none !important; }` so we also need the `!important` here to be able to override the default hidden behavior on the sphinx rendered scikit-learn.org. See: https://github.com/scikit-learn/scikit-learn/issues/21755 */display: inline-block !important;position: relative;}#sk-container-id-11 div.sk-text-repr-fallback {display: none;}</style><div id=\"sk-container-id-11\" class=\"sk-top-container\"><div class=\"sk-text-repr-fallback\"><pre>DecisionTreeClassifier(max_depth=3, min_samples_leaf=5, random_state=42)</pre><b>In a Jupyter environment, please rerun this cell to show the HTML representation or trust the notebook. <br />On GitHub, the HTML representation is unable to render, please try loading this page with nbviewer.org.</b></div><div class=\"sk-container\" hidden><div class=\"sk-item\"><div class=\"sk-estimator sk-toggleable\"><input class=\"sk-toggleable__control sk-hidden--visually\" id=\"sk-estimator-id-23\" type=\"checkbox\" checked><label for=\"sk-estimator-id-23\" class=\"sk-toggleable__label sk-toggleable__label-arrow\">DecisionTreeClassifier</label><div class=\"sk-toggleable__content\"><pre>DecisionTreeClassifier(max_depth=3, min_samples_leaf=5, random_state=42)</pre></div></div></div></div></div>"
      ],
      "text/plain": [
       "DecisionTreeClassifier(max_depth=3, min_samples_leaf=5, random_state=42)"
      ]
     },
     "execution_count": 751,
     "metadata": {},
     "output_type": "execute_result"
    }
   ],
   "source": [
    "tgsv.best_estimator_"
   ]
  },
  {
   "cell_type": "code",
   "execution_count": 675,
   "id": "ee844320",
   "metadata": {},
   "outputs": [
    {
     "name": "stdout",
     "output_type": "stream",
     "text": [
      "{'max_depth': 3, 'min_samples_leaf': 5, 'min_samples_split': 2}\n"
     ]
    },
    {
     "data": {
      "text/plain": [
       "{'params': [{'max_depth': 2, 'min_samples_leaf': 5, 'min_samples_split': 2},\n",
       "  {'max_depth': 2, 'min_samples_leaf': 5, 'min_samples_split': 100},\n",
       "  {'max_depth': 2, 'min_samples_leaf': 25, 'min_samples_split': 2},\n",
       "  {'max_depth': 2, 'min_samples_leaf': 25, 'min_samples_split': 100},\n",
       "  {'max_depth': 3, 'min_samples_leaf': 5, 'min_samples_split': 2},\n",
       "  {'max_depth': 3, 'min_samples_leaf': 5, 'min_samples_split': 100},\n",
       "  {'max_depth': 3, 'min_samples_leaf': 25, 'min_samples_split': 2},\n",
       "  {'max_depth': 3, 'min_samples_leaf': 25, 'min_samples_split': 100}],\n",
       " 'split0_train_score': [0.7902819076775234,\n",
       "  0.7902819076775234,\n",
       "  0.7902819076775234,\n",
       "  0.7902819076775234,\n",
       "  0.8215556029061746,\n",
       "  0.8215556029061746,\n",
       "  0.8215556029061746,\n",
       "  0.8215556029061746],\n",
       " 'split1_train_score': [0.7943015091806307,\n",
       "  0.7943015091806307,\n",
       "  0.7943015091806307,\n",
       "  0.7943015091806307,\n",
       "  0.8261951483465594,\n",
       "  0.8261951483465594,\n",
       "  0.8261951483465594,\n",
       "  0.8261951483465594],\n",
       " 'split2_train_score': [0.7915382091363926,\n",
       "  0.7915382091363926,\n",
       "  0.7915382091363926,\n",
       "  0.7915382091363926,\n",
       "  0.8232256736334828,\n",
       "  0.8232256736334828,\n",
       "  0.8232256736334828,\n",
       "  0.8232256736334828],\n",
       " 'split0_test_score': [0.7937781812723445,\n",
       "  0.7937781812723445,\n",
       "  0.7937781812723445,\n",
       "  0.7937781812723445,\n",
       "  0.8264722384469703,\n",
       "  0.8264722384469703,\n",
       "  0.8264722384469703,\n",
       "  0.8264722384469703],\n",
       " 'split1_test_score': [0.7879395825788258,\n",
       "  0.7879395825788258,\n",
       "  0.7879395825788258,\n",
       "  0.7879395825788258,\n",
       "  0.8184352815485815,\n",
       "  0.8184352815485815,\n",
       "  0.8184352815485815,\n",
       "  0.8184352815485815],\n",
       " 'split2_test_score': [0.7934907970746963,\n",
       "  0.7934907970746963,\n",
       "  0.7934907970746963,\n",
       "  0.7934907970746963,\n",
       "  0.8226324807258398,\n",
       "  0.8226324807258398,\n",
       "  0.8226324807258398,\n",
       "  0.8226324807258398],\n",
       " 'model_calculations': [{'leaves_count': 4, 'random_calc': 666},\n",
       "  {'leaves_count': 4, 'random_calc': 666},\n",
       "  {'leaves_count': 4, 'random_calc': 666},\n",
       "  {'leaves_count': 4, 'random_calc': 666},\n",
       "  {'leaves_count': 4, 'random_calc': 666},\n",
       "  {'leaves_count': 4, 'random_calc': 666},\n",
       "  {'leaves_count': 4, 'random_calc': 666},\n",
       "  {'leaves_count': 4, 'random_calc': 666},\n",
       "  {'leaves_count': 4, 'random_calc': 666},\n",
       "  {'leaves_count': 4, 'random_calc': 666},\n",
       "  {'leaves_count': 4, 'random_calc': 666},\n",
       "  {'leaves_count': 4, 'random_calc': 666},\n",
       "  {'leaves_count': 8, 'random_calc': 666},\n",
       "  {'leaves_count': 8, 'random_calc': 666},\n",
       "  {'leaves_count': 8, 'random_calc': 666},\n",
       "  {'leaves_count': 8, 'random_calc': 666},\n",
       "  {'leaves_count': 8, 'random_calc': 666},\n",
       "  {'leaves_count': 8, 'random_calc': 666},\n",
       "  {'leaves_count': 8, 'random_calc': 666},\n",
       "  {'leaves_count': 8, 'random_calc': 666},\n",
       "  {'leaves_count': 8, 'random_calc': 666},\n",
       "  {'leaves_count': 8, 'random_calc': 666},\n",
       "  {'leaves_count': 8, 'random_calc': 666},\n",
       "  {'leaves_count': 8, 'random_calc': 666}]}"
      ]
     },
     "execution_count": 675,
     "metadata": {},
     "output_type": "execute_result"
    }
   ],
   "source": [
    "results = tgsv.cv_results_\n",
    "res = np.vstack([results[f\"split{i}_test_score\"] for i in range(tgsv.n_splits)])\n",
    "print(results['params'][np.argmax(np.mean(res, axis = 0))])\n",
    "results"
   ]
  },
  {
   "cell_type": "code",
   "execution_count": 613,
   "id": "52bab823",
   "metadata": {},
   "outputs": [
    {
     "data": {
      "text/html": [
       "<style>#sk-container-id-8 {color: black;}#sk-container-id-8 pre{padding: 0;}#sk-container-id-8 div.sk-toggleable {background-color: white;}#sk-container-id-8 label.sk-toggleable__label {cursor: pointer;display: block;width: 100%;margin-bottom: 0;padding: 0.3em;box-sizing: border-box;text-align: center;}#sk-container-id-8 label.sk-toggleable__label-arrow:before {content: \"▸\";float: left;margin-right: 0.25em;color: #696969;}#sk-container-id-8 label.sk-toggleable__label-arrow:hover:before {color: black;}#sk-container-id-8 div.sk-estimator:hover label.sk-toggleable__label-arrow:before {color: black;}#sk-container-id-8 div.sk-toggleable__content {max-height: 0;max-width: 0;overflow: hidden;text-align: left;background-color: #f0f8ff;}#sk-container-id-8 div.sk-toggleable__content pre {margin: 0.2em;color: black;border-radius: 0.25em;background-color: #f0f8ff;}#sk-container-id-8 input.sk-toggleable__control:checked~div.sk-toggleable__content {max-height: 200px;max-width: 100%;overflow: auto;}#sk-container-id-8 input.sk-toggleable__control:checked~label.sk-toggleable__label-arrow:before {content: \"▾\";}#sk-container-id-8 div.sk-estimator input.sk-toggleable__control:checked~label.sk-toggleable__label {background-color: #d4ebff;}#sk-container-id-8 div.sk-label input.sk-toggleable__control:checked~label.sk-toggleable__label {background-color: #d4ebff;}#sk-container-id-8 input.sk-hidden--visually {border: 0;clip: rect(1px 1px 1px 1px);clip: rect(1px, 1px, 1px, 1px);height: 1px;margin: -1px;overflow: hidden;padding: 0;position: absolute;width: 1px;}#sk-container-id-8 div.sk-estimator {font-family: monospace;background-color: #f0f8ff;border: 1px dotted black;border-radius: 0.25em;box-sizing: border-box;margin-bottom: 0.5em;}#sk-container-id-8 div.sk-estimator:hover {background-color: #d4ebff;}#sk-container-id-8 div.sk-parallel-item::after {content: \"\";width: 100%;border-bottom: 1px solid gray;flex-grow: 1;}#sk-container-id-8 div.sk-label:hover label.sk-toggleable__label {background-color: #d4ebff;}#sk-container-id-8 div.sk-serial::before {content: \"\";position: absolute;border-left: 1px solid gray;box-sizing: border-box;top: 0;bottom: 0;left: 50%;z-index: 0;}#sk-container-id-8 div.sk-serial {display: flex;flex-direction: column;align-items: center;background-color: white;padding-right: 0.2em;padding-left: 0.2em;position: relative;}#sk-container-id-8 div.sk-item {position: relative;z-index: 1;}#sk-container-id-8 div.sk-parallel {display: flex;align-items: stretch;justify-content: center;background-color: white;position: relative;}#sk-container-id-8 div.sk-item::before, #sk-container-id-8 div.sk-parallel-item::before {content: \"\";position: absolute;border-left: 1px solid gray;box-sizing: border-box;top: 0;bottom: 0;left: 50%;z-index: -1;}#sk-container-id-8 div.sk-parallel-item {display: flex;flex-direction: column;z-index: 1;position: relative;background-color: white;}#sk-container-id-8 div.sk-parallel-item:first-child::after {align-self: flex-end;width: 50%;}#sk-container-id-8 div.sk-parallel-item:last-child::after {align-self: flex-start;width: 50%;}#sk-container-id-8 div.sk-parallel-item:only-child::after {width: 0;}#sk-container-id-8 div.sk-dashed-wrapped {border: 1px dashed gray;margin: 0 0.4em 0.5em 0.4em;box-sizing: border-box;padding-bottom: 0.4em;background-color: white;}#sk-container-id-8 div.sk-label label {font-family: monospace;font-weight: bold;display: inline-block;line-height: 1.2em;}#sk-container-id-8 div.sk-label-container {text-align: center;}#sk-container-id-8 div.sk-container {/* jupyter's `normalize.less` sets `[hidden] { display: none; }` but bootstrap.min.css set `[hidden] { display: none !important; }` so we also need the `!important` here to be able to override the default hidden behavior on the sphinx rendered scikit-learn.org. See: https://github.com/scikit-learn/scikit-learn/issues/21755 */display: inline-block !important;position: relative;}#sk-container-id-8 div.sk-text-repr-fallback {display: none;}</style><div id=\"sk-container-id-8\" class=\"sk-top-container\"><div class=\"sk-text-repr-fallback\"><pre>GridSearchCV(cv=3, estimator=DecisionTreeClassifier(random_state=42), n_jobs=-1,\n",
       "             param_grid={&#x27;max_depth&#x27;: [2, 3], &#x27;min_samples_leaf&#x27;: [5, 25],\n",
       "                         &#x27;min_samples_split&#x27;: [2, 100]},\n",
       "             scoring=&#x27;roc_auc&#x27;)</pre><b>In a Jupyter environment, please rerun this cell to show the HTML representation or trust the notebook. <br />On GitHub, the HTML representation is unable to render, please try loading this page with nbviewer.org.</b></div><div class=\"sk-container\" hidden><div class=\"sk-item sk-dashed-wrapped\"><div class=\"sk-label-container\"><div class=\"sk-label sk-toggleable\"><input class=\"sk-toggleable__control sk-hidden--visually\" id=\"sk-estimator-id-18\" type=\"checkbox\" ><label for=\"sk-estimator-id-18\" class=\"sk-toggleable__label sk-toggleable__label-arrow\">GridSearchCV</label><div class=\"sk-toggleable__content\"><pre>GridSearchCV(cv=3, estimator=DecisionTreeClassifier(random_state=42), n_jobs=-1,\n",
       "             param_grid={&#x27;max_depth&#x27;: [2, 3], &#x27;min_samples_leaf&#x27;: [5, 25],\n",
       "                         &#x27;min_samples_split&#x27;: [2, 100]},\n",
       "             scoring=&#x27;roc_auc&#x27;)</pre></div></div></div><div class=\"sk-parallel\"><div class=\"sk-parallel-item\"><div class=\"sk-item\"><div class=\"sk-label-container\"><div class=\"sk-label sk-toggleable\"><input class=\"sk-toggleable__control sk-hidden--visually\" id=\"sk-estimator-id-19\" type=\"checkbox\" ><label for=\"sk-estimator-id-19\" class=\"sk-toggleable__label sk-toggleable__label-arrow\">estimator: DecisionTreeClassifier</label><div class=\"sk-toggleable__content\"><pre>DecisionTreeClassifier(random_state=42)</pre></div></div></div><div class=\"sk-serial\"><div class=\"sk-item\"><div class=\"sk-estimator sk-toggleable\"><input class=\"sk-toggleable__control sk-hidden--visually\" id=\"sk-estimator-id-20\" type=\"checkbox\" ><label for=\"sk-estimator-id-20\" class=\"sk-toggleable__label sk-toggleable__label-arrow\">DecisionTreeClassifier</label><div class=\"sk-toggleable__content\"><pre>DecisionTreeClassifier(random_state=42)</pre></div></div></div></div></div></div></div></div></div></div>"
      ],
      "text/plain": [
       "GridSearchCV(cv=3, estimator=DecisionTreeClassifier(random_state=42), n_jobs=-1,\n",
       "             param_grid={'max_depth': [2, 3], 'min_samples_leaf': [5, 25],\n",
       "                         'min_samples_split': [2, 100]},\n",
       "             scoring='roc_auc')"
      ]
     },
     "execution_count": 613,
     "metadata": {},
     "output_type": "execute_result"
    }
   ],
   "source": [
    "gscv=GridSearchCV(estimator=DecisionTreeClassifier(random_state=42),\n",
    "                param_grid = grid,\n",
    "                scoring='roc_auc',\n",
    "                n_jobs=-1,\n",
    "                cv=3)\n",
    "gscv.fit(ld.features, ld.loan_status)"
   ]
  },
  {
   "cell_type": "code",
   "execution_count": 700,
   "id": "67614829",
   "metadata": {},
   "outputs": [
    {
     "data": {
      "text/plain": [
       "0.8211381704681032"
      ]
     },
     "execution_count": 700,
     "metadata": {},
     "output_type": "execute_result"
    }
   ],
   "source": [
    "gscv.cv_results_['split0_test_score']\n",
    "gscv.best_score_"
   ]
  },
  {
   "cell_type": "code",
   "execution_count": 533,
   "id": "b537b8f1",
   "metadata": {},
   "outputs": [
    {
     "data": {
      "text/plain": [
       "['mean_fit_time',\n",
       " 'std_fit_time',\n",
       " 'mean_score_time',\n",
       " 'std_score_time',\n",
       " 'param_max_depth',\n",
       " 'param_max_features',\n",
       " 'param_min_samples_leaf',\n",
       " 'param_min_samples_split',\n",
       " 'params',\n",
       " 'split0_test_score',\n",
       " 'split1_test_score',\n",
       " 'split2_test_score',\n",
       " 'split3_test_score',\n",
       " 'split4_test_score',\n",
       " 'mean_test_score',\n",
       " 'std_test_score',\n",
       " 'rank_test_score',\n",
       " 'split0_train_score',\n",
       " 'split1_train_score',\n",
       " 'split2_train_score',\n",
       " 'split3_train_score',\n",
       " 'split4_train_score',\n",
       " 'mean_train_score',\n",
       " 'std_train_score']"
      ]
     },
     "execution_count": 533,
     "metadata": {},
     "output_type": "execute_result"
    }
   ],
   "source": [
    "list(grid_search.cv_results_.keys())"
   ]
  },
  {
   "cell_type": "code",
   "execution_count": 733,
   "id": "cf180088",
   "metadata": {},
   "outputs": [
    {
     "data": {
      "text/plain": [
       "42"
      ]
     },
     "execution_count": 733,
     "metadata": {},
     "output_type": "execute_result"
    }
   ],
   "source": [
    "DecisionTreeClassifier(random_state=42).random_state"
   ]
  },
  {
   "cell_type": "code",
   "execution_count": 625,
   "id": "f3558f46",
   "metadata": {},
   "outputs": [
    {
     "data": {
      "text/plain": [
       "{'a': 1, 'b': 2, 'c': 3, 'd': 4}"
      ]
     },
     "execution_count": 625,
     "metadata": {},
     "output_type": "execute_result"
    }
   ],
   "source": [
    "x = {\"a\": 1, \"b\": 2}\n",
    "y = {\"c\": 3, \"d\": 4}\n",
    "{**x, **y}"
   ]
  },
  {
   "cell_type": "code",
   "execution_count": null,
   "id": "9534efa6",
   "metadata": {},
   "outputs": [],
   "source": []
  }
 ],
 "metadata": {
  "kernelspec": {
   "display_name": "Python 3 (ipykernel)",
   "language": "python",
   "name": "python3"
  },
  "language_info": {
   "codemirror_mode": {
    "name": "ipython",
    "version": 3
   },
   "file_extension": ".py",
   "mimetype": "text/x-python",
   "name": "python",
   "nbconvert_exporter": "python",
   "pygments_lexer": "ipython3",
   "version": "3.9.16"
  }
 },
 "nbformat": 4,
 "nbformat_minor": 5
}
