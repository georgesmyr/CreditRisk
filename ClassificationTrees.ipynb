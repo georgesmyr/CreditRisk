{
 "cells": [
  {
   "cell_type": "markdown",
   "id": "3582cfb8",
   "metadata": {},
   "source": [
    "# Imports"
   ]
  },
  {
   "cell_type": "code",
   "execution_count": 295,
   "id": "2f408d19",
   "metadata": {},
   "outputs": [],
   "source": [
    "from pathlib import Path\n",
    "\n",
    "import pandas as pd\n",
    "import numpy as np\n",
    "\n",
    "from sklearn.model_selection import train_test_split, GridSearchCV\n",
    "from sklearn.tree import DecisionTreeClassifier, export_graphviz\n",
    "\n",
    "from sklearn.metrics import roc_auc_score\n",
    "\n",
    "\n",
    "import data_loader as dl\n",
    "import utils"
   ]
  },
  {
   "cell_type": "markdown",
   "id": "8a79b510",
   "metadata": {},
   "source": [
    "# Load Data"
   ]
  },
  {
   "cell_type": "code",
   "execution_count": 296,
   "id": "c7206413",
   "metadata": {},
   "outputs": [],
   "source": [
    "ld = dl.DataLoader('data/loan_data_clean.csv',\n",
    "                   ['person_income', 'loan_int_rate','loan_percent_income', 'loan_intent'],\n",
    "                   ['loan_status'])\n",
    "ld.train_test_split(test_size=0.4, random_state=154)"
   ]
  },
  {
   "cell_type": "markdown",
   "id": "83431349",
   "metadata": {},
   "source": [
    "# Train the decision tree"
   ]
  },
  {
   "cell_type": "code",
   "execution_count": 297,
   "id": "685a7906",
   "metadata": {},
   "outputs": [
    {
     "data": {
      "text/html": [
       "<style>#sk-container-id-1 {color: black;}#sk-container-id-1 pre{padding: 0;}#sk-container-id-1 div.sk-toggleable {background-color: white;}#sk-container-id-1 label.sk-toggleable__label {cursor: pointer;display: block;width: 100%;margin-bottom: 0;padding: 0.3em;box-sizing: border-box;text-align: center;}#sk-container-id-1 label.sk-toggleable__label-arrow:before {content: \"▸\";float: left;margin-right: 0.25em;color: #696969;}#sk-container-id-1 label.sk-toggleable__label-arrow:hover:before {color: black;}#sk-container-id-1 div.sk-estimator:hover label.sk-toggleable__label-arrow:before {color: black;}#sk-container-id-1 div.sk-toggleable__content {max-height: 0;max-width: 0;overflow: hidden;text-align: left;background-color: #f0f8ff;}#sk-container-id-1 div.sk-toggleable__content pre {margin: 0.2em;color: black;border-radius: 0.25em;background-color: #f0f8ff;}#sk-container-id-1 input.sk-toggleable__control:checked~div.sk-toggleable__content {max-height: 200px;max-width: 100%;overflow: auto;}#sk-container-id-1 input.sk-toggleable__control:checked~label.sk-toggleable__label-arrow:before {content: \"▾\";}#sk-container-id-1 div.sk-estimator input.sk-toggleable__control:checked~label.sk-toggleable__label {background-color: #d4ebff;}#sk-container-id-1 div.sk-label input.sk-toggleable__control:checked~label.sk-toggleable__label {background-color: #d4ebff;}#sk-container-id-1 input.sk-hidden--visually {border: 0;clip: rect(1px 1px 1px 1px);clip: rect(1px, 1px, 1px, 1px);height: 1px;margin: -1px;overflow: hidden;padding: 0;position: absolute;width: 1px;}#sk-container-id-1 div.sk-estimator {font-family: monospace;background-color: #f0f8ff;border: 1px dotted black;border-radius: 0.25em;box-sizing: border-box;margin-bottom: 0.5em;}#sk-container-id-1 div.sk-estimator:hover {background-color: #d4ebff;}#sk-container-id-1 div.sk-parallel-item::after {content: \"\";width: 100%;border-bottom: 1px solid gray;flex-grow: 1;}#sk-container-id-1 div.sk-label:hover label.sk-toggleable__label {background-color: #d4ebff;}#sk-container-id-1 div.sk-serial::before {content: \"\";position: absolute;border-left: 1px solid gray;box-sizing: border-box;top: 0;bottom: 0;left: 50%;z-index: 0;}#sk-container-id-1 div.sk-serial {display: flex;flex-direction: column;align-items: center;background-color: white;padding-right: 0.2em;padding-left: 0.2em;position: relative;}#sk-container-id-1 div.sk-item {position: relative;z-index: 1;}#sk-container-id-1 div.sk-parallel {display: flex;align-items: stretch;justify-content: center;background-color: white;position: relative;}#sk-container-id-1 div.sk-item::before, #sk-container-id-1 div.sk-parallel-item::before {content: \"\";position: absolute;border-left: 1px solid gray;box-sizing: border-box;top: 0;bottom: 0;left: 50%;z-index: -1;}#sk-container-id-1 div.sk-parallel-item {display: flex;flex-direction: column;z-index: 1;position: relative;background-color: white;}#sk-container-id-1 div.sk-parallel-item:first-child::after {align-self: flex-end;width: 50%;}#sk-container-id-1 div.sk-parallel-item:last-child::after {align-self: flex-start;width: 50%;}#sk-container-id-1 div.sk-parallel-item:only-child::after {width: 0;}#sk-container-id-1 div.sk-dashed-wrapped {border: 1px dashed gray;margin: 0 0.4em 0.5em 0.4em;box-sizing: border-box;padding-bottom: 0.4em;background-color: white;}#sk-container-id-1 div.sk-label label {font-family: monospace;font-weight: bold;display: inline-block;line-height: 1.2em;}#sk-container-id-1 div.sk-label-container {text-align: center;}#sk-container-id-1 div.sk-container {/* jupyter's `normalize.less` sets `[hidden] { display: none; }` but bootstrap.min.css set `[hidden] { display: none !important; }` so we also need the `!important` here to be able to override the default hidden behavior on the sphinx rendered scikit-learn.org. See: https://github.com/scikit-learn/scikit-learn/issues/21755 */display: inline-block !important;position: relative;}#sk-container-id-1 div.sk-text-repr-fallback {display: none;}</style><div id=\"sk-container-id-1\" class=\"sk-top-container\"><div class=\"sk-text-repr-fallback\"><pre>DecisionTreeClassifier(max_depth=5, min_samples_split=1000, random_state=42)</pre><b>In a Jupyter environment, please rerun this cell to show the HTML representation or trust the notebook. <br />On GitHub, the HTML representation is unable to render, please try loading this page with nbviewer.org.</b></div><div class=\"sk-container\" hidden><div class=\"sk-item\"><div class=\"sk-estimator sk-toggleable\"><input class=\"sk-toggleable__control sk-hidden--visually\" id=\"sk-estimator-id-1\" type=\"checkbox\" checked><label for=\"sk-estimator-id-1\" class=\"sk-toggleable__label sk-toggleable__label-arrow\">DecisionTreeClassifier</label><div class=\"sk-toggleable__content\"><pre>DecisionTreeClassifier(max_depth=5, min_samples_split=1000, random_state=42)</pre></div></div></div></div></div>"
      ],
      "text/plain": [
       "DecisionTreeClassifier(max_depth=5, min_samples_split=1000, random_state=42)"
      ]
     },
     "execution_count": 297,
     "metadata": {},
     "output_type": "execute_result"
    }
   ],
   "source": [
    "clf_tree0 = DecisionTreeClassifier(criterion='gini',\n",
    "                                     splitter='best',\n",
    "                                     max_depth=5,\n",
    "                                     min_samples_split=1000,\n",
    "                                     min_samples_leaf=1,\n",
    "                                     min_weight_fraction_leaf=0.0,\n",
    "                                     random_state=42,\n",
    "                                     min_impurity_decrease=0.0)\n",
    "\n",
    "\n",
    "clf_tree0.fit(ld.features_train, ld.loan_status_train)"
   ]
  },
  {
   "cell_type": "code",
   "execution_count": 298,
   "id": "38ed8b48",
   "metadata": {},
   "outputs": [
    {
     "data": {
      "text/plain": [
       "0.8642154498826626"
      ]
     },
     "execution_count": 298,
     "metadata": {},
     "output_type": "execute_result"
    }
   ],
   "source": [
    "default_prob = clf_tree0.predict_proba(ld.features_test)[:,1]\n",
    "roc_auc_score(y_true = ld.loan_status_test, y_score = default_prob)"
   ]
  },
  {
   "cell_type": "markdown",
   "id": "baafdd7f",
   "metadata": {},
   "source": [
    "# Hyperparameter tuning with Grid Search Cross Validation (GridSearchCV)"
   ]
  },
  {
   "cell_type": "code",
   "execution_count": 299,
   "id": "bbc3b177",
   "metadata": {},
   "outputs": [],
   "source": [
    "# Define the DecisionTreeClassifier with specific random state\n",
    "clf_tree = DecisionTreeClassifier(random_state=42)"
   ]
  },
  {
   "cell_type": "code",
   "execution_count": 300,
   "id": "f526053f",
   "metadata": {},
   "outputs": [],
   "source": [
    "# Define the grid of candidate parameters for the best estimator\n",
    "param_grid = {'max_depth': [2, 3, 4, 5, 6, 7, 8, 10, 12, 15],\n",
    "              'min_samples_leaf': [5, 25, 50, 100],\n",
    "              'max_features': [None, 'sqrt', 'log2', 0.5],\n",
    "              'min_samples_split': [2, 100, 1000, 5000]}"
   ]
  },
  {
   "cell_type": "code",
   "execution_count": 301,
   "id": "4ec3f29d",
   "metadata": {},
   "outputs": [],
   "source": [
    "# Define the GridSearchCV instance\n",
    "grid_search = GridSearchCV(estimator=clf_tree,          # Estimator, for us the DecisionTreeClassifier\n",
    "                          param_grid=param_grid,   # Grid of parameters\n",
    "                          scoring='roc_auc',       # Criterion for comparing the classifiers\n",
    "                          n_jobs=-1,               # Paralelisation. For us no.\n",
    "                          cv=5,                    # Number of sub-datasets for cross validation\n",
    "                          refit=True,              # Return the estimator with the best hyperparameters\n",
    "                          return_train_score=True) # Return the score for the best estimator"
   ]
  },
  {
   "cell_type": "code",
   "execution_count": 307,
   "id": "b220761e",
   "metadata": {},
   "outputs": [
    {
     "data": {
      "text/html": [
       "<style>#sk-container-id-5 {color: black;}#sk-container-id-5 pre{padding: 0;}#sk-container-id-5 div.sk-toggleable {background-color: white;}#sk-container-id-5 label.sk-toggleable__label {cursor: pointer;display: block;width: 100%;margin-bottom: 0;padding: 0.3em;box-sizing: border-box;text-align: center;}#sk-container-id-5 label.sk-toggleable__label-arrow:before {content: \"▸\";float: left;margin-right: 0.25em;color: #696969;}#sk-container-id-5 label.sk-toggleable__label-arrow:hover:before {color: black;}#sk-container-id-5 div.sk-estimator:hover label.sk-toggleable__label-arrow:before {color: black;}#sk-container-id-5 div.sk-toggleable__content {max-height: 0;max-width: 0;overflow: hidden;text-align: left;background-color: #f0f8ff;}#sk-container-id-5 div.sk-toggleable__content pre {margin: 0.2em;color: black;border-radius: 0.25em;background-color: #f0f8ff;}#sk-container-id-5 input.sk-toggleable__control:checked~div.sk-toggleable__content {max-height: 200px;max-width: 100%;overflow: auto;}#sk-container-id-5 input.sk-toggleable__control:checked~label.sk-toggleable__label-arrow:before {content: \"▾\";}#sk-container-id-5 div.sk-estimator input.sk-toggleable__control:checked~label.sk-toggleable__label {background-color: #d4ebff;}#sk-container-id-5 div.sk-label input.sk-toggleable__control:checked~label.sk-toggleable__label {background-color: #d4ebff;}#sk-container-id-5 input.sk-hidden--visually {border: 0;clip: rect(1px 1px 1px 1px);clip: rect(1px, 1px, 1px, 1px);height: 1px;margin: -1px;overflow: hidden;padding: 0;position: absolute;width: 1px;}#sk-container-id-5 div.sk-estimator {font-family: monospace;background-color: #f0f8ff;border: 1px dotted black;border-radius: 0.25em;box-sizing: border-box;margin-bottom: 0.5em;}#sk-container-id-5 div.sk-estimator:hover {background-color: #d4ebff;}#sk-container-id-5 div.sk-parallel-item::after {content: \"\";width: 100%;border-bottom: 1px solid gray;flex-grow: 1;}#sk-container-id-5 div.sk-label:hover label.sk-toggleable__label {background-color: #d4ebff;}#sk-container-id-5 div.sk-serial::before {content: \"\";position: absolute;border-left: 1px solid gray;box-sizing: border-box;top: 0;bottom: 0;left: 50%;z-index: 0;}#sk-container-id-5 div.sk-serial {display: flex;flex-direction: column;align-items: center;background-color: white;padding-right: 0.2em;padding-left: 0.2em;position: relative;}#sk-container-id-5 div.sk-item {position: relative;z-index: 1;}#sk-container-id-5 div.sk-parallel {display: flex;align-items: stretch;justify-content: center;background-color: white;position: relative;}#sk-container-id-5 div.sk-item::before, #sk-container-id-5 div.sk-parallel-item::before {content: \"\";position: absolute;border-left: 1px solid gray;box-sizing: border-box;top: 0;bottom: 0;left: 50%;z-index: -1;}#sk-container-id-5 div.sk-parallel-item {display: flex;flex-direction: column;z-index: 1;position: relative;background-color: white;}#sk-container-id-5 div.sk-parallel-item:first-child::after {align-self: flex-end;width: 50%;}#sk-container-id-5 div.sk-parallel-item:last-child::after {align-self: flex-start;width: 50%;}#sk-container-id-5 div.sk-parallel-item:only-child::after {width: 0;}#sk-container-id-5 div.sk-dashed-wrapped {border: 1px dashed gray;margin: 0 0.4em 0.5em 0.4em;box-sizing: border-box;padding-bottom: 0.4em;background-color: white;}#sk-container-id-5 div.sk-label label {font-family: monospace;font-weight: bold;display: inline-block;line-height: 1.2em;}#sk-container-id-5 div.sk-label-container {text-align: center;}#sk-container-id-5 div.sk-container {/* jupyter's `normalize.less` sets `[hidden] { display: none; }` but bootstrap.min.css set `[hidden] { display: none !important; }` so we also need the `!important` here to be able to override the default hidden behavior on the sphinx rendered scikit-learn.org. See: https://github.com/scikit-learn/scikit-learn/issues/21755 */display: inline-block !important;position: relative;}#sk-container-id-5 div.sk-text-repr-fallback {display: none;}</style><div id=\"sk-container-id-5\" class=\"sk-top-container\"><div class=\"sk-text-repr-fallback\"><pre>GridSearchCV(cv=5, estimator=DecisionTreeClassifier(random_state=42), n_jobs=-1,\n",
       "             param_grid={&#x27;max_depth&#x27;: [2, 3, 4, 5, 6, 7, 8, 10, 12, 15],\n",
       "                         &#x27;max_features&#x27;: [None, &#x27;sqrt&#x27;, &#x27;log2&#x27;, 0.5],\n",
       "                         &#x27;min_samples_leaf&#x27;: [5, 25, 50, 100],\n",
       "                         &#x27;min_samples_split&#x27;: [2, 100, 1000, 5000]},\n",
       "             return_train_score=True, scoring=&#x27;roc_auc&#x27;)</pre><b>In a Jupyter environment, please rerun this cell to show the HTML representation or trust the notebook. <br />On GitHub, the HTML representation is unable to render, please try loading this page with nbviewer.org.</b></div><div class=\"sk-container\" hidden><div class=\"sk-item sk-dashed-wrapped\"><div class=\"sk-label-container\"><div class=\"sk-label sk-toggleable\"><input class=\"sk-toggleable__control sk-hidden--visually\" id=\"sk-estimator-id-11\" type=\"checkbox\" ><label for=\"sk-estimator-id-11\" class=\"sk-toggleable__label sk-toggleable__label-arrow\">GridSearchCV</label><div class=\"sk-toggleable__content\"><pre>GridSearchCV(cv=5, estimator=DecisionTreeClassifier(random_state=42), n_jobs=-1,\n",
       "             param_grid={&#x27;max_depth&#x27;: [2, 3, 4, 5, 6, 7, 8, 10, 12, 15],\n",
       "                         &#x27;max_features&#x27;: [None, &#x27;sqrt&#x27;, &#x27;log2&#x27;, 0.5],\n",
       "                         &#x27;min_samples_leaf&#x27;: [5, 25, 50, 100],\n",
       "                         &#x27;min_samples_split&#x27;: [2, 100, 1000, 5000]},\n",
       "             return_train_score=True, scoring=&#x27;roc_auc&#x27;)</pre></div></div></div><div class=\"sk-parallel\"><div class=\"sk-parallel-item\"><div class=\"sk-item\"><div class=\"sk-label-container\"><div class=\"sk-label sk-toggleable\"><input class=\"sk-toggleable__control sk-hidden--visually\" id=\"sk-estimator-id-12\" type=\"checkbox\" ><label for=\"sk-estimator-id-12\" class=\"sk-toggleable__label sk-toggleable__label-arrow\">estimator: DecisionTreeClassifier</label><div class=\"sk-toggleable__content\"><pre>DecisionTreeClassifier(random_state=42)</pre></div></div></div><div class=\"sk-serial\"><div class=\"sk-item\"><div class=\"sk-estimator sk-toggleable\"><input class=\"sk-toggleable__control sk-hidden--visually\" id=\"sk-estimator-id-13\" type=\"checkbox\" ><label for=\"sk-estimator-id-13\" class=\"sk-toggleable__label sk-toggleable__label-arrow\">DecisionTreeClassifier</label><div class=\"sk-toggleable__content\"><pre>DecisionTreeClassifier(random_state=42)</pre></div></div></div></div></div></div></div></div></div></div>"
      ],
      "text/plain": [
       "GridSearchCV(cv=5, estimator=DecisionTreeClassifier(random_state=42), n_jobs=-1,\n",
       "             param_grid={'max_depth': [2, 3, 4, 5, 6, 7, 8, 10, 12, 15],\n",
       "                         'max_features': [None, 'sqrt', 'log2', 0.5],\n",
       "                         'min_samples_leaf': [5, 25, 50, 100],\n",
       "                         'min_samples_split': [2, 100, 1000, 5000]},\n",
       "             return_train_score=True, scoring='roc_auc')"
      ]
     },
     "execution_count": 307,
     "metadata": {},
     "output_type": "execute_result"
    }
   ],
   "source": [
    "# Fit the grid search to the training datasets\n",
    "grid_search.fit(ld.features_train, ld.loan_status_train)"
   ]
  },
  {
   "cell_type": "code",
   "execution_count": 303,
   "id": "939df24e",
   "metadata": {},
   "outputs": [
    {
     "name": "stdout",
     "output_type": "stream",
     "text": [
      "Hyperparameters for the best classification decision tree from grid search:\n",
      "max_depth:  15\n",
      "max_features:  None\n",
      "min_samples_leaf:  100\n",
      "min_samples_split:  2\n",
      "score:  0.8837158224347983\n"
     ]
    }
   ],
   "source": [
    "# Print the hyperparameters and score for the best estimator from the grid search cross validation\n",
    "print(\"Hyperparameters for the best classification decision tree from grid search:\")\n",
    "for hyperparam, value in grid_search.best_params_.items():\n",
    "    print(hyperparam + \": \", value)\n",
    "    \n",
    "best_score = grid_search.best_score_\n",
    "print(\"score: \", best_score)"
   ]
  },
  {
   "cell_type": "code",
   "execution_count": 10,
   "id": "8d09de17",
   "metadata": {},
   "outputs": [],
   "source": [
    "# Best classification decision tree\n",
    "best_clf_tree = grid_search.best_estimator_"
   ]
  },
  {
   "cell_type": "markdown",
   "id": "36d30e77",
   "metadata": {},
   "source": [
    "# Custom grid search cross validation"
   ]
  },
  {
   "cell_type": "markdown",
   "id": "f13efb2c",
   "metadata": {},
   "source": [
    "I also illustrates now how to run cross-validation more manually to obtain custom tree attributes, such as the total number of nodes or leaf nodes associated with certain hyperparameter settings. The following function accesses the internal .tree_ attribute to retrieve information about the total node count, as well as how many of these nodes are leaf nodes."
   ]
  },
  {
   "cell_type": "code",
   "execution_count": 3,
   "id": "2e24a6dd",
   "metadata": {},
   "outputs": [],
   "source": [
    "from treegridsearchcv import get_leaves_count"
   ]
  },
  {
   "cell_type": "code",
   "execution_count": 13,
   "id": "57040529",
   "metadata": {},
   "outputs": [
    {
     "data": {
      "text/plain": [
       "121"
      ]
     },
     "execution_count": 13,
     "metadata": {},
     "output_type": "execute_result"
    }
   ],
   "source": [
    "get_leaves_count(best_clf_tree)"
   ]
  },
  {
   "cell_type": "code",
   "execution_count": 320,
   "id": "dd5c1286",
   "metadata": {},
   "outputs": [],
   "source": [
    "from sklearn.model_selection import KFold\n",
    "from itertools import product\n",
    "\n",
    "\n",
    "class TreeCalculation():\n",
    "    \n",
    "    def __init__(self):\n",
    "        self.tree = None\n",
    "        self.calcs_names = []\n",
    "        \n",
    "        self._get_calcs_names()\n",
    "        \n",
    "    def set_tree(self, tree):\n",
    "        self.tree = tree\n",
    "        \n",
    "    def _get_calcs_names(self):\n",
    "        if not self.calcs_names:\n",
    "            self.calculate()\n",
    "    \n",
    "    def get_leaves_count(self):\n",
    "        \"\"\"\n",
    "        Returns the number of leaves in the tree\n",
    "        The child_left[i] method returns the number of the node the is the left child of node i.\n",
    "        If the node i is a leaf node, child_left[i] = -1. Therefore\n",
    "        \"\"\"\n",
    "        if self.tree is None:\n",
    "            self.calcs_names.append(\"leaves_count\")\n",
    "        else:\n",
    "            t = self.tree.tree_\n",
    "            n = t.node_count\n",
    "            leaves = len([i for i in range(n) if t.children_left[i]== -1])\n",
    "            return leaves\n",
    "    \n",
    "    def calculate(self):\n",
    "        return [self.get_leaves_count()]\n",
    "     \n",
    "\n",
    "class TreeGridSearchCV():\n",
    "    \n",
    "    def __init__(self, estimator, param_grid, scoring='roc_auc', cv=3, shuffle=True,\n",
    "                 refit=True, return_train_score=True, tree_calculation=None):\n",
    "        self.model = estimator\n",
    "        self.param_grid = param_grid\n",
    "        \n",
    "        self.n_splits = cv\n",
    "        self.shuffle = shuffle\n",
    "        \n",
    "        self.refit = refit\n",
    "        self.return_train_score = return_train_score\n",
    "        \n",
    "        self.tree_calculation = tree_calculation\n",
    "        \n",
    "        self.best_params_ = None\n",
    "        self.best_estimator_ = None\n",
    "        self.best_score_ = None\n",
    "        \n",
    "                \n",
    "    def fit(self, features, target):\n",
    "        \n",
    "        params_scores_calcs = []\n",
    "        \n",
    "        # Find all combinations of parameters\n",
    "        param_combinations = list(product(*self.param_grid.values()))\n",
    "        for params in param_combinations:\n",
    "            \n",
    "            # Define a tree with each combination of parameters\n",
    "            params_dict = dict(zip(self.param_grid.keys(), params))\n",
    "            tree = DecisionTreeClassifier(random_state=42)\n",
    "            tree.set_params(**params_dict)\n",
    "\n",
    "            # Cross-validate\n",
    "            kf = KFold(n_splits=self.n_splits, shuffle=self.shuffle, random_state=42)\n",
    "            train_scores, val_scores, quantities = [], [], []\n",
    "            for train_idx, test_idx in kf.split(features):\n",
    "                # Fit the tree to the training data\n",
    "                features_train, target_train,  = features.iloc[train_idx], target.iloc[train_idx]\n",
    "                features_test, target_test = features.iloc[test_idx], target.iloc[test_idx]\n",
    "                tree.fit(X=features_train, y=target_train)\n",
    "                \n",
    "                # Score the train dataset and testing dataset (validation)\n",
    "                train_pred = tree.predict_proba(X=features_train)[:, 1]\n",
    "                train_score = roc_auc_score(y_score=train_pred, y_true=target_train)\n",
    "                train_scores.append(train_score)\n",
    "                \n",
    "                test_pred = tree.predict_proba(X=features_test)[:, 1]\n",
    "                val_score = roc_auc_score(y_score=test_pred, y_true=target_test)\n",
    "                val_scores.append(val_score)\n",
    "                \n",
    "                \n",
    "#                 # Calculate the extra quantities\n",
    "#                 if self.tree_calculation is not None:\n",
    "#                     self.tree_calculation.set_tree(tree)\n",
    "#                     self.tree_calculation.calculate()\n",
    "#                     quantities.append()\n",
    "            \n",
    "            # Keep calculations for median validation score\n",
    "            cv_scores = np.transpose(np.array([train_scores, val_scores]))\n",
    "            median_val_row = cv_scores[np.where(cv_scores[:, 1] == np.median(cv_scores[:, 1]))][0]\n",
    "            median_val_row = np.concatenate((list(params_dict.values()), median_val_row))\n",
    "            params_scores_calcs.append(median_val_row)\n",
    "            \n",
    "        # Get columns\n",
    "        hyperparams_names = list(self.param_grid.keys())\n",
    "        cols = hyperparams_names + ['train_score', 'val_score']\n",
    "        if self.tree_calculation is not None:\n",
    "            cols += self.tree_calculation.calcs_names\n",
    "        \n",
    "        # Stack the tree features for each hyperparameter combination vertically\n",
    "        params_scores_calcs = np.vstack(params_scores_calcs)\n",
    "        print(params_scores_calcs[:,-1])\n",
    "        # Find the best hyperparameters that lead to best validation score\n",
    "        self.best_score_ = np.max(params_scores_calcs[:,-1])\n",
    "        best_params_scores_calcs = params_scores_calcs[np.where(params_scores_calcs[:,-1] == self.best_score_)]\n",
    "        self.best_params_ = dict(zip(hyperparams_names, best_params_scores_calcs[0,: len(hyperparams_names)]))\n",
    "        # Define and train the estimator with the best hyperparameters\n",
    "        self.best_estimator = None\n",
    "        \n",
    "        # Return a DataFrame\n",
    "        params_scores_calcs = dict(zip(cols, np.transpose(params_scores_calcs)))\n",
    "        return pd.DataFrame(params_scores_calcs)\n",
    "\n",
    "            \n"
   ]
  },
  {
   "cell_type": "code",
   "execution_count": 321,
   "id": "f4f00eff",
   "metadata": {},
   "outputs": [],
   "source": [
    "calcs = TreeCalculation()\n",
    "tgsv = TreeGridSearchCV(estimator=DecisionTreeClassifier(random_state=42),\n",
    "                        param_grid = {'max_depth': [2, 3, 4],\n",
    "                                      'min_samples_leaf': [5, 25,],\n",
    "                                      'max_features': [None, 'sqrt', 'log2', 0.5],\n",
    "                                      'min_samples_split': [2, 100]},\n",
    "                       )"
   ]
  },
  {
   "cell_type": "code",
   "execution_count": 322,
   "id": "726e0ce9",
   "metadata": {},
   "outputs": [
    {
     "name": "stdout",
     "output_type": "stream",
     "text": [
      "CPU times: user 3 µs, sys: 1 µs, total: 4 µs\n",
      "Wall time: 6.91 µs\n",
      "[0.7934907970746963 0.7934907970746963 '0.7054200118722371'\n",
      " '0.7054200118722371' '0.7054200118722371' '0.7054200118722371'\n",
      " 0.790508067656619 0.790508067656619 0.7934907970746963 0.7934907970746963\n",
      " '0.7054200118722371' '0.7054200118722371' '0.7054200118722371'\n",
      " '0.7054200118722371' 0.790508067656619 0.790508067656619\n",
      " 0.8226324807258398 0.8226324807258398 '0.712454020088799'\n",
      " '0.712454020088799' '0.712454020088799' '0.712454020088799'\n",
      " 0.8206359768428308 0.8206359768428308 0.8226324807258398\n",
      " 0.8226324807258398 '0.712454020088799' '0.712454020088799'\n",
      " '0.712454020088799' '0.712454020088799' 0.8206359768428308\n",
      " 0.8206359768428308 0.8537343331596956 0.8537343331596956\n",
      " '0.7706208411090099' '0.7706208411090099' '0.7706208411090099'\n",
      " '0.7706208411090099' 0.8493450567597886 0.8488833837889275\n",
      " 0.8537343331596956 0.8537343331596956 '0.7706208411090099'\n",
      " '0.7706208411090099' '0.7706208411090099' '0.7706208411090099'\n",
      " 0.8493450567597886 0.8488833837889275]\n"
     ]
    },
    {
     "ename": "TypeError",
     "evalue": "'>=' not supported between instances of 'float' and 'str'",
     "output_type": "error",
     "traceback": [
      "\u001b[0;31m---------------------------------------------------------------------------\u001b[0m",
      "\u001b[0;31mTypeError\u001b[0m                                 Traceback (most recent call last)",
      "Cell \u001b[0;32mIn[322], line 2\u001b[0m\n\u001b[1;32m      1\u001b[0m get_ipython()\u001b[38;5;241m.\u001b[39mrun_line_magic(\u001b[38;5;124m'\u001b[39m\u001b[38;5;124mtime\u001b[39m\u001b[38;5;124m'\u001b[39m, \u001b[38;5;124m'\u001b[39m\u001b[38;5;124m'\u001b[39m)\n\u001b[0;32m----> 2\u001b[0m df \u001b[38;5;241m=\u001b[39m \u001b[43mtgsv\u001b[49m\u001b[38;5;241;43m.\u001b[39;49m\u001b[43mfit\u001b[49m\u001b[43m(\u001b[49m\u001b[43mld\u001b[49m\u001b[38;5;241;43m.\u001b[39;49m\u001b[43mfeatures\u001b[49m\u001b[43m,\u001b[49m\u001b[43m \u001b[49m\u001b[43mld\u001b[49m\u001b[38;5;241;43m.\u001b[39;49m\u001b[43mloan_status\u001b[49m\u001b[43m)\u001b[49m\n\u001b[1;32m      3\u001b[0m df\n",
      "Cell \u001b[0;32mIn[320], line 112\u001b[0m, in \u001b[0;36mTreeGridSearchCV.fit\u001b[0;34m(self, features, target)\u001b[0m\n\u001b[1;32m    110\u001b[0m \u001b[38;5;28mprint\u001b[39m(params_scores_calcs[:,\u001b[38;5;241m-\u001b[39m\u001b[38;5;241m1\u001b[39m])\n\u001b[1;32m    111\u001b[0m \u001b[38;5;66;03m# Find the best hyperparameters that lead to best validation score\u001b[39;00m\n\u001b[0;32m--> 112\u001b[0m \u001b[38;5;28mself\u001b[39m\u001b[38;5;241m.\u001b[39mbest_score_ \u001b[38;5;241m=\u001b[39m \u001b[43mnp\u001b[49m\u001b[38;5;241;43m.\u001b[39;49m\u001b[43mmax\u001b[49m\u001b[43m(\u001b[49m\u001b[43mparams_scores_calcs\u001b[49m\u001b[43m[\u001b[49m\u001b[43m:\u001b[49m\u001b[43m,\u001b[49m\u001b[38;5;241;43m-\u001b[39;49m\u001b[38;5;241;43m1\u001b[39;49m\u001b[43m]\u001b[49m\u001b[43m)\u001b[49m\n\u001b[1;32m    113\u001b[0m best_params_scores_calcs \u001b[38;5;241m=\u001b[39m params_scores_calcs[np\u001b[38;5;241m.\u001b[39mwhere(params_scores_calcs[:,\u001b[38;5;241m-\u001b[39m\u001b[38;5;241m1\u001b[39m] \u001b[38;5;241m==\u001b[39m \u001b[38;5;28mself\u001b[39m\u001b[38;5;241m.\u001b[39mbest_score_)]\n\u001b[1;32m    114\u001b[0m \u001b[38;5;28mself\u001b[39m\u001b[38;5;241m.\u001b[39mbest_params_ \u001b[38;5;241m=\u001b[39m \u001b[38;5;28mdict\u001b[39m(\u001b[38;5;28mzip\u001b[39m(hyperparams_names, best_params_scores_calcs[\u001b[38;5;241m0\u001b[39m,: \u001b[38;5;28mlen\u001b[39m(hyperparams_names)]))\n",
      "File \u001b[0;32m<__array_function__ internals>:5\u001b[0m, in \u001b[0;36mamax\u001b[0;34m(*args, **kwargs)\u001b[0m\n",
      "File \u001b[0;32m~/opt/anaconda3/lib/python3.9/site-packages/numpy/core/fromnumeric.py:2733\u001b[0m, in \u001b[0;36mamax\u001b[0;34m(a, axis, out, keepdims, initial, where)\u001b[0m\n\u001b[1;32m   2617\u001b[0m \u001b[38;5;129m@array_function_dispatch\u001b[39m(_amax_dispatcher)\n\u001b[1;32m   2618\u001b[0m \u001b[38;5;28;01mdef\u001b[39;00m \u001b[38;5;21mamax\u001b[39m(a, axis\u001b[38;5;241m=\u001b[39m\u001b[38;5;28;01mNone\u001b[39;00m, out\u001b[38;5;241m=\u001b[39m\u001b[38;5;28;01mNone\u001b[39;00m, keepdims\u001b[38;5;241m=\u001b[39mnp\u001b[38;5;241m.\u001b[39m_NoValue, initial\u001b[38;5;241m=\u001b[39mnp\u001b[38;5;241m.\u001b[39m_NoValue,\n\u001b[1;32m   2619\u001b[0m          where\u001b[38;5;241m=\u001b[39mnp\u001b[38;5;241m.\u001b[39m_NoValue):\n\u001b[1;32m   2620\u001b[0m \u001b[38;5;250m    \u001b[39m\u001b[38;5;124;03m\"\"\"\u001b[39;00m\n\u001b[1;32m   2621\u001b[0m \u001b[38;5;124;03m    Return the maximum of an array or maximum along an axis.\u001b[39;00m\n\u001b[1;32m   2622\u001b[0m \n\u001b[0;32m   (...)\u001b[0m\n\u001b[1;32m   2731\u001b[0m \u001b[38;5;124;03m    5\u001b[39;00m\n\u001b[1;32m   2732\u001b[0m \u001b[38;5;124;03m    \"\"\"\u001b[39;00m\n\u001b[0;32m-> 2733\u001b[0m     \u001b[38;5;28;01mreturn\u001b[39;00m \u001b[43m_wrapreduction\u001b[49m\u001b[43m(\u001b[49m\u001b[43ma\u001b[49m\u001b[43m,\u001b[49m\u001b[43m \u001b[49m\u001b[43mnp\u001b[49m\u001b[38;5;241;43m.\u001b[39;49m\u001b[43mmaximum\u001b[49m\u001b[43m,\u001b[49m\u001b[43m \u001b[49m\u001b[38;5;124;43m'\u001b[39;49m\u001b[38;5;124;43mmax\u001b[39;49m\u001b[38;5;124;43m'\u001b[39;49m\u001b[43m,\u001b[49m\u001b[43m \u001b[49m\u001b[43maxis\u001b[49m\u001b[43m,\u001b[49m\u001b[43m \u001b[49m\u001b[38;5;28;43;01mNone\u001b[39;49;00m\u001b[43m,\u001b[49m\u001b[43m \u001b[49m\u001b[43mout\u001b[49m\u001b[43m,\u001b[49m\n\u001b[1;32m   2734\u001b[0m \u001b[43m                          \u001b[49m\u001b[43mkeepdims\u001b[49m\u001b[38;5;241;43m=\u001b[39;49m\u001b[43mkeepdims\u001b[49m\u001b[43m,\u001b[49m\u001b[43m \u001b[49m\u001b[43minitial\u001b[49m\u001b[38;5;241;43m=\u001b[39;49m\u001b[43minitial\u001b[49m\u001b[43m,\u001b[49m\u001b[43m \u001b[49m\u001b[43mwhere\u001b[49m\u001b[38;5;241;43m=\u001b[39;49m\u001b[43mwhere\u001b[49m\u001b[43m)\u001b[49m\n",
      "File \u001b[0;32m~/opt/anaconda3/lib/python3.9/site-packages/numpy/core/fromnumeric.py:87\u001b[0m, in \u001b[0;36m_wrapreduction\u001b[0;34m(obj, ufunc, method, axis, dtype, out, **kwargs)\u001b[0m\n\u001b[1;32m     84\u001b[0m         \u001b[38;5;28;01melse\u001b[39;00m:\n\u001b[1;32m     85\u001b[0m             \u001b[38;5;28;01mreturn\u001b[39;00m reduction(axis\u001b[38;5;241m=\u001b[39maxis, out\u001b[38;5;241m=\u001b[39mout, \u001b[38;5;241m*\u001b[39m\u001b[38;5;241m*\u001b[39mpasskwargs)\n\u001b[0;32m---> 87\u001b[0m \u001b[38;5;28;01mreturn\u001b[39;00m \u001b[43mufunc\u001b[49m\u001b[38;5;241;43m.\u001b[39;49m\u001b[43mreduce\u001b[49m\u001b[43m(\u001b[49m\u001b[43mobj\u001b[49m\u001b[43m,\u001b[49m\u001b[43m \u001b[49m\u001b[43maxis\u001b[49m\u001b[43m,\u001b[49m\u001b[43m \u001b[49m\u001b[43mdtype\u001b[49m\u001b[43m,\u001b[49m\u001b[43m \u001b[49m\u001b[43mout\u001b[49m\u001b[43m,\u001b[49m\u001b[43m \u001b[49m\u001b[38;5;241;43m*\u001b[39;49m\u001b[38;5;241;43m*\u001b[39;49m\u001b[43mpasskwargs\u001b[49m\u001b[43m)\u001b[49m\n",
      "\u001b[0;31mTypeError\u001b[0m: '>=' not supported between instances of 'float' and 'str'"
     ]
    }
   ],
   "source": [
    "%time\n",
    "df = tgsv.fit(ld.features, ld.loan_status)\n",
    "df"
   ]
  },
  {
   "cell_type": "code",
   "execution_count": null,
   "id": "0fc77e5b",
   "metadata": {},
   "outputs": [],
   "source": [
    "tgsv.best_score_"
   ]
  },
  {
   "cell_type": "code",
   "execution_count": null,
   "id": "5700ff00",
   "metadata": {},
   "outputs": [],
   "source": []
  }
 ],
 "metadata": {
  "kernelspec": {
   "display_name": "Python 3 (ipykernel)",
   "language": "python",
   "name": "python3"
  },
  "language_info": {
   "codemirror_mode": {
    "name": "ipython",
    "version": 3
   },
   "file_extension": ".py",
   "mimetype": "text/x-python",
   "name": "python",
   "nbconvert_exporter": "python",
   "pygments_lexer": "ipython3",
   "version": "3.9.16"
  }
 },
 "nbformat": 4,
 "nbformat_minor": 5
}
